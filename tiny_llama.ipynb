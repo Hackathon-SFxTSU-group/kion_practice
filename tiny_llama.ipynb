{
 "cells": [
  {
   "metadata": {
    "ExecuteTime": {
     "end_time": "2025-07-23T21:36:08.597037Z",
     "start_time": "2025-07-23T21:36:06.392724Z"
    }
   },
   "cell_type": "code",
   "source": [
    "from analyzers.audio.audio_analyzer import AudioAnalyzer\n",
    "from utils.audio_tools import extract_audio_ffmpeg\n",
    "import torch\n",
    "from transformers import pipeline"
   ],
   "id": "13cbb74317c3b8de",
   "outputs": [],
   "execution_count": 1
  },
  {
   "metadata": {
    "ExecuteTime": {
     "end_time": "2025-07-23T21:36:10.893459Z",
     "start_time": "2025-07-23T21:36:10.890430Z"
    }
   },
   "cell_type": "code",
   "source": "video_path = 'test.mp4'",
   "id": "dc62d8c14b88a3",
   "outputs": [],
   "execution_count": 2
  },
  {
   "metadata": {
    "ExecuteTime": {
     "end_time": "2025-07-23T21:36:12.102252Z",
     "start_time": "2025-07-23T21:36:11.734512Z"
    }
   },
   "cell_type": "code",
   "source": "audio_path = extract_audio_ffmpeg(video_path)",
   "id": "d49478faa8cab61b",
   "outputs": [
    {
     "name": "stderr",
     "output_type": "stream",
     "text": [
      "ffmpeg version 4.4.2-0ubuntu0.22.04.1 Copyright (c) 2000-2021 the FFmpeg developers\n",
      "  built with gcc 11 (Ubuntu 11.2.0-19ubuntu1)\n",
      "  configuration: --prefix=/usr --extra-version=0ubuntu0.22.04.1 --toolchain=hardened --libdir=/usr/lib/x86_64-linux-gnu --incdir=/usr/include/x86_64-linux-gnu --arch=amd64 --enable-gpl --disable-stripping --enable-gnutls --enable-ladspa --enable-libaom --enable-libass --enable-libbluray --enable-libbs2b --enable-libcaca --enable-libcdio --enable-libcodec2 --enable-libdav1d --enable-libflite --enable-libfontconfig --enable-libfreetype --enable-libfribidi --enable-libgme --enable-libgsm --enable-libjack --enable-libmp3lame --enable-libmysofa --enable-libopenjpeg --enable-libopenmpt --enable-libopus --enable-libpulse --enable-librabbitmq --enable-librubberband --enable-libshine --enable-libsnappy --enable-libsoxr --enable-libspeex --enable-libsrt --enable-libssh --enable-libtheora --enable-libtwolame --enable-libvidstab --enable-libvorbis --enable-libvpx --enable-libwebp --enable-libx265 --enable-libxml2 --enable-libxvid --enable-libzimg --enable-libzmq --enable-libzvbi --enable-lv2 --enable-omx --enable-openal --enable-opencl --enable-opengl --enable-sdl2 --enable-pocketsphinx --enable-librsvg --enable-libmfx --enable-libdc1394 --enable-libdrm --enable-libiec61883 --enable-chromaprint --enable-frei0r --enable-libx264 --enable-shared\n",
      "  libavutil      56. 70.100 / 56. 70.100\n",
      "  libavcodec     58.134.100 / 58.134.100\n",
      "  libavformat    58. 76.100 / 58. 76.100\n",
      "  libavdevice    58. 13.100 / 58. 13.100\n",
      "  libavfilter     7.110.100 /  7.110.100\n",
      "  libswscale      5.  9.100 /  5.  9.100\n",
      "  libswresample   3.  9.100 /  3.  9.100\n",
      "  libpostproc    55.  9.100 / 55.  9.100\n",
      "Input #0, mov,mp4,m4a,3gp,3g2,mj2, from 'test.mp4':\n",
      "  Metadata:\n",
      "    major_brand     : isom\n",
      "    minor_version   : 512\n",
      "    compatible_brands: isomiso2avc1mp41\n",
      "    encoder         : Lavf61.1.100\n",
      "  Duration: 00:03:01.84, start: 0.000000, bitrate: 239 kb/s\n",
      "  Stream #0:0(und): Video: h264 (Main) (avc1 / 0x31637661), yuv420p(tv, bt709), 256x144, 200 kb/s, 30.01 fps, 30 tbr, 90k tbn, 2000k tbc (default)\n",
      "    Metadata:\n",
      "      handler_name    : VideoHandler\n",
      "      vendor_id       : [0][0][0][0]\n",
      "  Stream #0:1(und): Audio: aac (LC) (mp4a / 0x6134706D), 44100 Hz, stereo, fltp, 32 kb/s (default)\n",
      "    Metadata:\n",
      "      handler_name    : SoundHandler\n",
      "      vendor_id       : [0][0][0][0]\n",
      "Stream mapping:\n",
      "  Stream #0:1 -> #0:0 (aac (native) -> pcm_s16le (native))\n",
      "Press [q] to stop, [?] for help\n",
      "Output #0, wav, to 'audio.wav':\n",
      "  Metadata:\n",
      "    major_brand     : isom\n",
      "    minor_version   : 512\n",
      "    compatible_brands: isomiso2avc1mp41\n",
      "    ISFT            : Lavf58.76.100\n",
      "  Stream #0:0(und): Audio: pcm_s16le ([1][0][0][0] / 0x0001), 16000 Hz, mono, s16, 256 kb/s (default)\n",
      "    Metadata:\n",
      "      handler_name    : SoundHandler\n",
      "      vendor_id       : [0][0][0][0]\n",
      "      encoder         : Lavc58.134.100 pcm_s16le\n",
      "size=    5682kB time=00:03:01.83 bitrate= 256.0kbits/s speed=1.25e+03x    \n",
      "video:0kB audio:5682kB subtitle:0kB other streams:0kB global headers:0kB muxing overhead: 0.001340%\n"
     ]
    }
   ],
   "execution_count": 3
  },
  {
   "cell_type": "code",
   "id": "initial_id",
   "metadata": {
    "collapsed": true,
    "ExecuteTime": {
     "end_time": "2025-07-23T21:36:36.414531Z",
     "start_time": "2025-07-23T21:36:16.377953Z"
    }
   },
   "source": [
    "audio_analyzer = AudioAnalyzer(audio_path, model_size='small')\n",
    "\n",
    "# Получаем список сегментов с распознанным теAudioAnalyzerкстом\n",
    "segments = audio_analyzer.transcribe_audio()\n",
    "\n",
    "# Получаем значения энергии аудио для каждого временного фрейма\n",
    "energy = audio_analyzer.detect_audio_activity(frame_duration=1.0)"
   ],
   "outputs": [],
   "execution_count": 4
  },
  {
   "metadata": {
    "ExecuteTime": {
     "end_time": "2025-07-23T21:48:18.955696Z",
     "start_time": "2025-07-23T21:48:18.952771Z"
    }
   },
   "cell_type": "code",
   "source": [
    "scene_list = [\n",
    "    {\"start\": item[\"start\"], \"end\": item[\"end\"], \"text\": item[\"text\"]}\n",
    "    for item in segments\n",
    "]"
   ],
   "id": "93388f8d9f6db005",
   "outputs": [],
   "execution_count": 10
  },
  {
   "metadata": {
    "ExecuteTime": {
     "end_time": "2025-07-23T21:44:17.213638Z",
     "start_time": "2025-07-23T21:43:15.388538Z"
    }
   },
   "cell_type": "code",
   "source": [
    "# Используем float16, если bfloat16 не поддерживается\n",
    "pipe = pipeline(\n",
    "    \"text-generation\",\n",
    "    model=\"TinyLlama/TinyLlama-1.1B-Chat-v1.0\",\n",
    "    torch_dtype=torch.float16,\n",
    "    device_map=\"auto\"\n",
    ")"
   ],
   "id": "e58822d60035b3c0",
   "outputs": [
    {
     "name": "stderr",
     "output_type": "stream",
     "text": [
      "Device set to use cuda:0\n"
     ]
    }
   ],
   "execution_count": 9
  },
  {
   "metadata": {
    "ExecuteTime": {
     "end_time": "2025-07-23T21:58:51.499527Z",
     "start_time": "2025-07-23T21:58:51.496121Z"
    }
   },
   "cell_type": "code",
   "source": [
    "messages = [\n",
    "    {\n",
    "        \"role\": \"system\",\n",
    "        \"content\":\n",
    "            \"Ты — сценарист, который помогает структурировать фильм по смысловым сценам. На вход ты получаешь массив коротких сцен с таймкодами и репликами. Твоя задача — объединить их в более крупные смысловые сцены (сюжетные блоки) и выдать результат в виде массива объектов со значениями `start`, `end` и кратким `summary` (описанием происходящего). Не пропускай сцены. Объединяй их только по смыслу. Таймкоды в секундах. Пример вывода:\\n\"\n",
    "            \"[{'start': 0.0, 'end': 24.0, 'summary': 'Общий смысл'}, ...]\"\n",
    "\n",
    "    },\n",
    "    {\n",
    "        \"role\": \"user\",\n",
    "        \"content\":\n",
    "            \"Вот список сцен:\\n\\n\" +\n",
    "            str(scene_list) +\n",
    "            \"\\n\\nСгруппируй их в смысловые блоки и выведи новый массив с полями `start`, `end`, `summary`.\"\n",
    "\n",
    "    }\n",
    "]"
   ],
   "id": "94091257c4da5784",
   "outputs": [],
   "execution_count": 29
  },
  {
   "metadata": {
    "ExecuteTime": {
     "end_time": "2025-07-23T21:58:51.752298Z",
     "start_time": "2025-07-23T21:58:51.749063Z"
    }
   },
   "cell_type": "code",
   "source": [
    "# Сформируем промпт\n",
    "prompt = pipe.tokenizer.apply_chat_template(messages, tokenize=False, add_generation_prompt=True)"
   ],
   "id": "a820824c0dd6b8ec",
   "outputs": [],
   "execution_count": 30
  },
  {
   "metadata": {
    "ExecuteTime": {
     "end_time": "2025-07-23T21:59:02.976247Z",
     "start_time": "2025-07-23T21:58:52.000136Z"
    }
   },
   "cell_type": "code",
   "source": [
    "# Запустим генерацию\n",
    "outputs = pipe(prompt, max_new_tokens=512, do_sample=True, temperature=0.7, top_k=50, top_p=0.95)"
   ],
   "id": "19fcf42da85619df",
   "outputs": [],
   "execution_count": 31
  },
  {
   "metadata": {
    "ExecuteTime": {
     "end_time": "2025-07-23T21:59:03.754827Z",
     "start_time": "2025-07-23T21:59:03.751082Z"
    }
   },
   "cell_type": "code",
   "source": [
    "# Распечатаем результат\n",
    "print(outputs[0][\"generated_text\"])"
   ],
   "id": "e8163f8238ed00cb",
   "outputs": [
    {
     "name": "stdout",
     "output_type": "stream",
     "text": [
      "<|system|>\n",
      "Ты — сценарист, который помогает структурировать фильм по смысловым сценам. На вход ты получаешь массив коротких сцен с таймкодами и репликами. Твоя задача — объединить их в более крупные смысловые сцены (сюжетные блоки) и выдать результат в виде массива объектов со значениями `start`, `end` и кратким `summary` (описанием происходящего). Не пропускай сцены. Объединяй их только по смыслу. Таймкоды в секундах. Пример вывода:\n",
      "[{'start': 0.0, 'end': 24.0, 'summary': 'Общий смысл'}, ...]</s>\n",
      "<|user|>\n",
      "Вот список сцен:\n",
      "\n",
      "[{'start': 0.0, 'end': 5.6000000000000005, 'text': ' Рванули в Россия за славой. В армии у нас кто угодно. Немцы, итальяны, даже шавайцары.'}, {'start': 5.6000000000000005, 'end': 7.6000000000000005, 'text': ' 600 тысяч штыков.'}, {'start': 16.1, 'end': 17.6, 'text': ' Естественно, что за дерьмо!'}, {'start': 17.6, 'end': 22.0, 'text': ' Месье Наполеон, ты нам дороги на карте рисовали, а дорог ни хера нет.'}, {'start': 22.0, 'end': 24.0, 'text': ' Наебал получается.'}, {'start': 24.0, 'end': 26.0, 'text': ' До Смолинска осталась, не мнёжка.'}, {'start': 26.0, 'end': 29.0, 'text': ' Бонья сказали, что это приключение на 20-ть меньють.'}, {'start': 30.0, 'end': 32.0, 'text': ' Скоро домой с победой.'}, {'start': 32.0, 'end': 34.0, 'text': ' Вы тёка гляньте, что тут творится!'}, {'start': 40.0, 'end': 47.0, 'text': ' Смолинск наш! Но это пистьец! Рюски нас чуть не вайпнули. Ещё император чуть не поджарился в шатре.'}, {'start': 47.0, 'end': 50.0, 'text': ' Это просто бьёлы! Рюски испалили все свои избючки.'}, {'start': 50.0, 'end': 55.0, 'text': ' В Севе объезжали нам богатые рюски деревня, но мы жрём съемлю и закюсиваем пеплом.'}, {'start': 55.0, 'end': 60.0, 'text': ' Вот и обещанные запасные кони. Половину съели ещё под Витебском.'}, {'start': 60.0, 'end': 62.0, 'text': ' Бона-пяти-месье.'}, {'start': 63.0, 'end': 69.0, 'text': ' Смятрите, это бородино. Бонья объят с какими-то своими гениальными планами.'}, {'start': 71.0, 'end': 73.0, 'text': ' Чую я сейчас за мест начнётся лютый.'}, {'start': 73.0, 'end': 76.0, 'text': ' Недаром помнит вся Россия про День Бородина.'}, {'start': 76.0, 'end': 78.0, 'text': ' Опа! За спойлерил.'}, {'start': 79.0, 'end': 82.0, 'text': ' Моя рота! Боже, половины уже нет!'}, {'start': 82.0, 'end': 84.0, 'text': ' Где знаменосец?'}, {'start': 84.0, 'end': 87.0, 'text': ' Кто сука в меду стоял? Где СС? На гриногёра?'}, {'start': 87.0, 'end': 90.0, 'text': ' Мы в аду. В самом настоящем аду.'}, {'start': 90.0, 'end': 93.0, 'text': ' Русские отступают, но я уверен, что это ещё не конец.'}, {'start': 93.0, 'end': 94.0, 'text': ' Помогите!'}, {'start': 94.0, 'end': 97.0, 'text': ' Русские отступают, сохранив боеспособную армию.'}, {'start': 97.0, 'end': 99.0, 'text': ' Но за нами тактическая победа.'}, {'start': 99.0, 'end': 101.0, 'text': ' Идём на Москву, господа!'}, {'start': 102.0, 'end': 105.0, 'text': ' Москва наша. Только русские, блять, сожгли весь лут.'}, {'start': 105.0, 'end': 106.0, 'text': ' Тут абсолютно ни хюя нет.'}, {'start': 106.0, 'end': 109.0, 'text': ' И они хуя. Император просчитался, но где?'}, {'start': 110.0, 'end': 113.0, 'text': ' Сидим, пердим. Ждём переговоров с Александром.'}, {'start': 113.0, 'end': 116.0, 'text': ' Босс надеется, что Саня запросит мир.'}, {'start': 116.0, 'end': 117.0, 'text': ' Ну посмотрим.'}, {'start': 118.0, 'end': 120.0, 'text': ' Блять, уже снег пошёл. Русские партизанят.'}, {'start': 120.0, 'end': 123.0, 'text': ' Жрачки нет, снабжения нет. Жерём кору. Холодно, сука!'}, {'start': 123.0, 'end': 125.0, 'text': ' Ебаный банопард тянет время!'}, {'start': 125.0, 'end': 128.0, 'text': ' Спецдофу кескё тюфеля виктум боном донайжер!'}, {'start': 128.0, 'end': 130.0, 'text': ' Убан вот хэйт, и твать чужу комонов, агятей!'}, {'start': 130.0, 'end': 133.0, 'text': ' Хогят в тю дезаст, тубруль, и чурил я ктонайжер! Айца!'}, {'start': 133.0, 'end': 136.0, 'text': ' Чё-то пошло не так. Такого никто не ожидал.'}, {'start': 136.0, 'end': 139.0, 'text': ' У меня даже акцент пропал. Во всём виноваты злые русские.'}, {'start': 139.0, 'end': 141.0, 'text': ' Сука, сука, сука! Сука!'}, {'start': 141.0, 'end': 145.0, 'text': ' Переправляемся через березину. Мосты есть, но я решил бежать по льду.'}, {'start': 145.0, 'end': 149.0, 'text': ' Русские стреляют, лёд проваливается. Боня, помоги!'}, {'start': 149.0, 'end': 151.0, 'text': ' Переправу строили два дня.'}, {'start': 152.0, 'end': 156.0, 'text': ' Озгорела она в один миг. Ещё и пальцы, кажется, отморозил.'}, {'start': 157.0, 'end': 159.0, 'text': ' Колепно, не правда ли?'}, {'start': 159.0, 'end': 162.0, 'text': ' Великая армия в славном зимнем отступлении.'}, {'start': 162.0, 'end': 165.0, 'text': ' Нас победил снег, лёд и мороз.'}, {'start': 165.0, 'end': 167.0, 'text': ' Россия нас уделала.'}, {'start': 167.0, 'end': 170.0, 'text': ' Впрочем, русские, как всегда, приходишь их побеждать,'}, {'start': 170.0, 'end': 173.0, 'text': ' получаешь знатных пиздюли на психологическую травму.'}, {'start': 173.0, 'end': 178.0, 'text': ' Быть может, это последнее наше рон-деву, но эта запись останется как память.'}, {'start': 178.0, 'end': 180.0, 'text': ' Подпишитесь на канал, не забывайте бедного жомпьера.'}, {'start': 180.0, 'end': 182.0, 'text': ' Au revoir!'}]\n",
      "\n",
      "Сгруппируй их в смысловые блоки и выведи новый массив с полями `start`, `end`, `summary`.</s>\n",
      "<|assistant|>\n",
      "вми нам нам <ин.им <пмию <инло о <ин < <воми выми преям смяя ко <гу <поя <мо <ка <дея <инкуом проуими <ий в кы ус <мите у <мем <ме <лолом реми уломс <за при <про <крамику <из <имивеи <ка <ка на ия <у про <и <ибы прес <идлоце и полиливи поеле <и прос на повми поте с про <больре <лисмегими олю <иле пролов сра в провы полови уимесим сли ос лими око прохбсе по вме примулирои поятутее пом оместе истарав от пое ссли промеетемиолииме по и стевимява огроеглов агли о св сме и наде и ссяммгу и си от и еимеро сгс нас сусс по оло о за оме поде е прои с ов пои с сме свло проме по проле проми проуме с прои сре си про си с прое про со с про с по си сме за св прев со о проы и о по с заи до сте св по с сре сме с по сиокв око выи со проинлиузос по сремобу свимив пои сре сцере оти овс пози собы сре иреу а про ст поме сс слодя сбк по с с с по по сореобин по сидгя промете со ску зу нарево прои сре уоб сиз сце срере среяку от свме проце гоу поку си от про с смев проре сли по с по по по су на оти по <лозоивоу\n"
     ]
    }
   ],
   "execution_count": 32
  },
  {
   "metadata": {},
   "cell_type": "code",
   "outputs": [],
   "execution_count": null,
   "source": "",
   "id": "dea4df6f1a04fa1a"
  }
 ],
 "metadata": {
  "kernelspec": {
   "display_name": "Python 3",
   "language": "python",
   "name": "python3"
  },
  "language_info": {
   "codemirror_mode": {
    "name": "ipython",
    "version": 2
   },
   "file_extension": ".py",
   "mimetype": "text/x-python",
   "name": "python",
   "nbconvert_exporter": "python",
   "pygments_lexer": "ipython2",
   "version": "2.7.6"
  }
 },
 "nbformat": 4,
 "nbformat_minor": 5
}
