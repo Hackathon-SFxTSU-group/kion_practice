{
 "cells": [
  {
   "cell_type": "code",
   "id": "initial_id",
   "metadata": {
    "collapsed": true,
    "ExecuteTime": {
     "end_time": "2025-07-22T06:40:13.099110Z",
     "start_time": "2025-07-22T06:40:09.501792Z"
    }
   },
   "source": [
    "from process_video.video_processor import VideoProcessor\n",
    "import os\n",
    "import pickle"
   ],
   "outputs": [
    {
     "name": "stderr",
     "output_type": "stream",
     "text": [
      "/home/artniz/hackatons/kion/kionvenv/lib/python3.10/site-packages/tqdm/auto.py:21: TqdmWarning: IProgress not found. Please update jupyter and ipywidgets. See https://ipywidgets.readthedocs.io/en/stable/user_install.html\n",
      "  from .autonotebook import tqdm as notebook_tqdm\n"
     ]
    }
   ],
   "execution_count": 1
  },
  {
   "metadata": {
    "ExecuteTime": {
     "end_time": "2025-07-22T06:40:21.710217Z",
     "start_time": "2025-07-22T06:40:21.707534Z"
    }
   },
   "cell_type": "code",
   "source": [
    "video_path = \"test4.mp4\"\n",
    "output_path = \"output_annotated4.mp4\"\n",
    "cache_path = \"results2.pkl\""
   ],
   "id": "550a95c6f9ae2467",
   "outputs": [],
   "execution_count": 2
  },
  {
   "metadata": {
    "ExecuteTime": {
     "end_time": "2025-07-22T06:40:23.958439Z",
     "start_time": "2025-07-22T06:40:22.273512Z"
    }
   },
   "cell_type": "code",
   "source": [
    "if os.path.exists(cache_path):\n",
    "    print(\"Загружаем из кеша...\")\n",
    "    with open(cache_path, \"rb\") as f:\n",
    "        processor = VideoProcessor(using_cache=True)\n",
    "        track_faces, tracking_frames, track_id_to_person = pickle.load(f)\n",
    "        processor.render_video_with_faces(video_path, output_path, tracking_frames, track_id_to_person)\n",
    "else:\n",
    "    processor = VideoProcessor()\n",
    "    track_faces, tracking_frames, track_id_to_person = processor.generate_video_with_persons(video_path, output_path)\n",
    "    with open(cache_path, \"wb\") as f:\n",
    "        pickle.dump((track_faces, tracking_frames, track_id_to_person), f)"
   ],
   "id": "3eb5acec1afe9d7d",
   "outputs": [
    {
     "name": "stdout",
     "output_type": "stream",
     "text": [
      "Загружаем из кеша...\n"
     ]
    }
   ],
   "execution_count": 3
  },
  {
   "metadata": {},
   "cell_type": "code",
   "outputs": [],
   "execution_count": null,
   "source": "",
   "id": "ebca821b7647334"
  }
 ],
 "metadata": {
  "kernelspec": {
   "display_name": "Python 3",
   "language": "python",
   "name": "python3"
  },
  "language_info": {
   "codemirror_mode": {
    "name": "ipython",
    "version": 2
   },
   "file_extension": ".py",
   "mimetype": "text/x-python",
   "name": "python",
   "nbconvert_exporter": "python",
   "pygments_lexer": "ipython2",
   "version": "2.7.6"
  }
 },
 "nbformat": 4,
 "nbformat_minor": 5
}
