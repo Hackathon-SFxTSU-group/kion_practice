{
 "cells": [
  {
   "cell_type": "code",
   "execution_count": 1,
   "id": "2739479f",
   "metadata": {},
   "outputs": [
    {
     "name": "stdout",
     "output_type": "stream",
     "text": [
      "WARNING:tensorflow:From d:\\All_projects\\TGU_projects\\Hackathon\\kion_practice-2\\venv\\lib\\site-packages\\tf_keras\\src\\losses.py:2976: The name tf.losses.sparse_softmax_cross_entropy is deprecated. Please use tf.compat.v1.losses.sparse_softmax_cross_entropy instead.\n",
      "\n"
     ]
    }
   ],
   "source": [
    "# Импорт необходимых модулей\n",
    "import os\n",
    "import pickle\n",
    "from classes.audio_analyzer import AudioSceneAnalyzer\n",
    "#from classes.video_analyzer_complex import VideoPipeline\n",
    "from classes.video_anlyzer_without_faceraid import VideoPipeline\n",
    "from classes.scene_enricher import SceneEnricher\n",
    "from classes.openai import OpenAIThemer\n",
    "from classes.simple_transcriptor import ASRProcessor\n",
    "from classes.scene_merge import UnifiedSceneMerger\n",
    "import matplotlib.pyplot as plt\n",
    "from classes.audioanalyzer_and_transcriptor import AudioAnalyzer"
   ]
  },
  {
   "cell_type": "code",
   "execution_count": 2,
   "id": "6e44d76d",
   "metadata": {},
   "outputs": [
    {
     "name": "stdout",
     "output_type": "stream",
     "text": [
      "Available providers: ['TensorrtExecutionProvider', 'CUDAExecutionProvider', 'CPUExecutionProvider']\n",
      "GPU\n",
      "CUDA доступен: True\n",
      "Устройство: NVIDIA GeForce RTX 3070\n"
     ]
    }
   ],
   "source": [
    "import onnxruntime as ort\n",
    "print(\"Available providers:\", ort.get_available_providers())\n",
    "print(ort.get_device())\n",
    "import torch\n",
    "print(\"CUDA доступен:\", torch.cuda.is_available())\n",
    "print(\"Устройство:\", torch.cuda.get_device_name(0) if torch.cuda.is_available() else \"Нет\")\n"
   ]
  },
  {
   "cell_type": "code",
   "execution_count": 3,
   "id": "ab7abf71",
   "metadata": {},
   "outputs": [],
   "source": [
    "VIDEO_PATH = \"videos/Video_02.avi\"          # Путь к видеофайлу\n",
    "AUDIO_PATH = \"temp/temp_audio.wav\"           # Временный WAV\n",
    "OUTPUT_DIR = \"output_files/\"\n",
    "TEMP_DIR = \"temp/\"         # Папка для результатов\n",
    "CACHE_PATH = os.path.join(TEMP_DIR, \"results.pkl\")\n",
    "MIN_SCENE_LENGTH = 2.0                  # Мин. длительность сцены\n",
    "MAX_SCENE_LENGTH = 300.0                # Макс. допустимая длина сцены (5 мин)\n"
   ]
  },
  {
   "cell_type": "markdown",
   "id": "20690d6793c8bd80",
   "metadata": {},
   "source": [
    "# Анализ видео и выделение сцен\n",
    "\n",
    "### В этой ячейке мы создаём объект VideoAnalyzer и анализируем видео для получения сцены и лиц, привязанных к трекам.\n"
   ]
  },
  {
   "cell_type": "code",
   "execution_count": 4,
   "id": "da107042",
   "metadata": {},
   "outputs": [
    {
     "name": "stderr",
     "output_type": "stream",
     "text": [
      "d:\\All_projects\\TGU_projects\\Hackathon\\kion_practice-2\\venv\\lib\\site-packages\\torchreid\\utils\\tools.py:43: UserWarning: No file found at \"d:\\All_projects\\TGU_projects\\Hackathon\\kion_practice-2\\venv\\lib\\site-packages\\deep_sort_realtime\\embedder\\weights\\osnet_ain_ms_d_c_wtsonly.pth\"\n",
      "  warnings.warn('No file found at \"{}\"'.format(fpath))\n"
     ]
    },
    {
     "name": "stdout",
     "output_type": "stream",
     "text": [
      "Successfully loaded imagenet pretrained weights from \"C:\\Users\\Dell/.cache\\torch\\checkpoints\\osnet_ain_x1_0_imagenet.pth\"\n",
      "** The following layers are discarded due to unmatched keys or layer size: ['classifier.weight', 'classifier.bias']\n",
      "Model: osnet_ain_x1_0\n",
      "- params: 2,193,616\n",
      "- flops: 978,878,352\n"
     ]
    },
    {
     "name": "stderr",
     "output_type": "stream",
     "text": [
      "Computing embeddings:   0%|          | 0/24826 [00:00<?, ?it/s]d:\\All_projects\\TGU_projects\\Hackathon\\kion_practice-2\\venv\\lib\\site-packages\\torch\\nn\\functional.py:5504: UserWarning: 1Torch was not compiled with flash attention. (Triggered internally at ..\\aten\\src\\ATen\\native\\transformers\\cuda\\sdp_utils.cpp:455.)\n",
      "  attn_output = scaled_dot_product_attention(q, k, v, attn_mask, dropout_p, is_causal)\n",
      "Computing embeddings: 100%|██████████| 24826/24826 [07:29<00:00, 55.21it/s]\n",
      "Analyzing scenes: 100%|██████████| 1248/1248 [15:14<00:00,  1.36it/s] \n"
     ]
    },
    {
     "name": "stdout",
     "output_type": "stream",
     "text": [
      "✅ Отчёт сохранён: reports\\Video_02_video_report.json\n"
     ]
    }
   ],
   "source": [
    "if os.path.exists(CACHE_PATH):\n",
    "    print(\"🔁 Загружаем из кеша...\")\n",
    "    with open(CACHE_PATH, \"rb\") as f:\n",
    "        #scenes, track_faces, tracking_frames, track_id_to_person = pickle.load(f)\n",
    "        scenes, track_faces, tracking_frames = pickle.load(f)\n",
    "\n",
    "else:\n",
    "    pipeline = VideoPipeline()\n",
    "    #scenes, track_faces, tracking_frames, track_id_to_person = pipeline.run(VIDEO_PATH, OUTPUT_DIR)\n",
    "    scenes, track_faces, tracking_frames = pipeline.run(VIDEO_PATH, OUTPUT_DIR)\n",
    "\n",
    "    with open(CACHE_PATH, \"wb\") as f:\n",
    "        #pickle.dump((scenes, track_faces, tracking_frames, track_id_to_person), f)\n",
    "        pickle.dump((scenes, track_faces, tracking_frames), f)"
   ]
  },
  {
   "cell_type": "markdown",
   "id": "473ae0ab96893355",
   "metadata": {},
   "source": [
    "# Анализ аудио: распознавание речи и активность\n",
    "\n",
    "### Используем AudioAnalyzer для транскрибирования речи и измерения активности звука (энергии)."
   ]
  },
  {
   "cell_type": "code",
   "execution_count": 4,
   "id": "c8293626",
   "metadata": {},
   "outputs": [
    {
     "name": "stdout",
     "output_type": "stream",
     "text": [
      "🎧 Извлечение аудио...\n",
      "✅ Аудио сохранено: output_files/temp_audio.wav\n",
      "📦 Загрузка моделей...\n",
      "WARNING:tensorflow:From d:\\All_projects\\TGU_projects\\Hackathon\\kion_practice-2\\venv\\lib\\site-packages\\keras\\src\\backend\\tensorflow\\core.py:232: The name tf.placeholder is deprecated. Please use tf.compat.v1.placeholder instead.\n",
      "\n",
      "WARNING:tensorflow:From d:\\All_projects\\TGU_projects\\Hackathon\\kion_practice-2\\venv\\lib\\site-packages\\tensorflow_hub\\resolver.py:120: The name tf.gfile.MakeDirs is deprecated. Please use tf.io.gfile.makedirs instead.\n",
      "\n"
     ]
    },
    {
     "name": "stderr",
     "output_type": "stream",
     "text": [
      "WARNING:tensorflow:From d:\\All_projects\\TGU_projects\\Hackathon\\kion_practice-2\\venv\\lib\\site-packages\\tensorflow_hub\\resolver.py:120: The name tf.gfile.MakeDirs is deprecated. Please use tf.io.gfile.makedirs instead.\n",
      "\n"
     ]
    },
    {
     "name": "stdout",
     "output_type": "stream",
     "text": [
      "WARNING:tensorflow:From d:\\All_projects\\TGU_projects\\Hackathon\\kion_practice-2\\venv\\lib\\site-packages\\tensorflow_hub\\module_v2.py:126: The name tf.saved_model.load_v2 is deprecated. Please use tf.compat.v2.saved_model.load instead.\n",
      "\n"
     ]
    },
    {
     "name": "stderr",
     "output_type": "stream",
     "text": [
      "WARNING:tensorflow:From d:\\All_projects\\TGU_projects\\Hackathon\\kion_practice-2\\venv\\lib\\site-packages\\tensorflow_hub\\module_v2.py:126: The name tf.saved_model.load_v2 is deprecated. Please use tf.compat.v2.saved_model.load instead.\n",
      "\n"
     ]
    },
    {
     "name": "stdout",
     "output_type": "stream",
     "text": [
      "✅ Модели загружены\n",
      "🔍 OpenL3: извлечение признаков...\n",
      "\u001b[1m33/33\u001b[0m \u001b[32m━━━━━━━━━━━━━━━━━━━━\u001b[0m\u001b[37m\u001b[0m \u001b[1m45s\u001b[0m 1s/step\n",
      "✅ Получено 1035 признаков\n",
      "🔊 YAMNet: извлечение классов...\n",
      "✅ Получено 2155 меток\n",
      "📈 RMS: расчёт...\n",
      "✅ RMS рассчитано: 89099 значений\n",
      "✂️ Детектирование сцен...\n"
     ]
    },
    {
     "name": "stderr",
     "output_type": "stream",
     "text": [
      "🚧 Анализ: 100%|██████████| 1034/1034 [00:00<00:00, 2808.70it/s]\n"
     ]
    },
    {
     "name": "stdout",
     "output_type": "stream",
     "text": [
      "✅ Найдено 39 границ сцен\n",
      "📝 Распознавание речи (Whisper)...\n"
     ]
    },
    {
     "name": "stderr",
     "output_type": "stream",
     "text": [
      "d:\\All_projects\\TGU_projects\\Hackathon\\kion_practice-2\\venv\\lib\\site-packages\\whisper\\model.py:124: UserWarning: 1Torch was not compiled with flash attention. (Triggered internally at ..\\aten\\src\\ATen\\native\\transformers\\cuda\\sdp_utils.cpp:455.)\n",
      "  a = scaled_dot_product_attention(\n",
      "d:\\All_projects\\TGU_projects\\Hackathon\\kion_practice-2\\venv\\lib\\site-packages\\whisper\\timing.py:42: UserWarning: Failed to launch Triton kernels, likely due to missing CUDA toolkit; falling back to a slower median kernel implementation...\n",
      "  warnings.warn(\n",
      "d:\\All_projects\\TGU_projects\\Hackathon\\kion_practice-2\\venv\\lib\\site-packages\\whisper\\timing.py:146: UserWarning: Failed to launch Triton kernels, likely due to missing CUDA toolkit; falling back to a slower DTW implementation...\n",
      "  warnings.warn(\n"
     ]
    },
    {
     "name": "stdout",
     "output_type": "stream",
     "text": [
      "[00:45.320 --> 00:46.720]  ПОЗИТИВНАЯ МУЗЫКА\n"
     ]
    },
    {
     "name": "stderr",
     "output_type": "stream",
     "text": [
      "d:\\All_projects\\TGU_projects\\Hackathon\\kion_practice-2\\venv\\lib\\site-packages\\whisper\\timing.py:42: UserWarning: Failed to launch Triton kernels, likely due to missing CUDA toolkit; falling back to a slower median kernel implementation...\n",
      "  warnings.warn(\n",
      "d:\\All_projects\\TGU_projects\\Hackathon\\kion_practice-2\\venv\\lib\\site-packages\\whisper\\timing.py:146: UserWarning: Failed to launch Triton kernels, likely due to missing CUDA toolkit; falling back to a slower DTW implementation...\n",
      "  warnings.warn(\n"
     ]
    },
    {
     "name": "stdout",
     "output_type": "stream",
     "text": [
      "[01:08.440 --> 01:11.240]  НАПРЯЖЕННАЯ МУЗЫКА\n",
      "[01:11.240 --> 01:20.280]  НАПРЯЖЕННАЯ МУЗЫКА\n",
      "[01:26.060 --> 01:30.420]  Молочина Уэса. Она мурлычит, как котенок. Не подведет.\n",
      "[01:42.980 --> 01:45.040]  Сигнал в норме не то, что в прошлый раз.\n",
      "[01:45.280 --> 01:47.200]  Ну да, после обновления помехи исчезли.\n",
      "[01:47.600 --> 01:49.500]  Вроде да. И все же надо...\n",
      "[01:49.500 --> 01:51.840]  Ой! Здрасте.\n",
      "[01:52.440 --> 01:56.340]  Ну, в чем дело? Чем обязаны?\n",
      "[01:56.520 --> 02:01.940]  Мои извинения. Наши вечеринки становятся популярными.\n",
      "[02:03.600 --> 02:05.020]  Артур их гонорар.\n",
      "[02:08.060 --> 02:09.160]  О, спасибо.\n",
      "[02:12.240 --> 02:16.960]  Я могу взглянуть. Весьма наслышан.\n",
      "[02:18.480 --> 02:21.960]  Да. Он великолепен.\n",
      "[02:22.340 --> 02:23.980]  Да. Она.\n",
      "[02:25.160 --> 02:30.360]  А-а-а. Разумеется. Извините, Леден.\n",
      "[02:31.080 --> 02:34.880]  Что вы скажете, если я предложу вам проиграть?\n",
      "[02:36.940 --> 02:38.760]  Да пошел ты.\n",
      "[02:39.760 --> 02:43.620]  Не стоит так злиться, дорогая. Это бизнес.\n",
      "[02:44.260 --> 02:48.840]  Не для меня. Я не поддаюсь. И не проигрываю.\n",
      "[02:49.640 --> 02:51.360]  А это делает тебя особенной?\n",
      "[02:52.640 --> 02:59.220]  Не особенной. Уникальной. Только в нашей команде проводник женщина.\n",
      "[02:59.700 --> 03:06.680]  Это все? Твой козырь? Женщины дерутся лучше? Мужчин?\n",
      "[03:06.680 --> 03:07.720]  Это лучше.\n",
      "[03:08.800 --> 03:11.220]  Да. 17 побед подряд.\n",
      "[03:11.520 --> 03:13.200]  Вам достойно заплатят.\n",
      "[03:13.660 --> 03:15.280]  Да ты что, совсем оглох?\n",
      "[03:15.500 --> 03:17.460]  Это тебе важные деньги. А нам нет.\n",
      "[03:17.640 --> 03:18.800]  300 тысяч.\n",
      "[03:22.100 --> 03:22.800]  Нет.\n",
      "[03:25.080 --> 03:27.240]  Один незначительный проигрыш по посновной ставке.\n",
      "[03:27.460 --> 03:30.520]  Незначительный? Да какие же вы козлы?\n",
      "[03:31.000 --> 03:33.920]  Вот такие, как ты. Выкручивали ей руки.\n",
      "[03:39.960 --> 03:45.680]  Год назад Соня похитили бандиты. Они надругались над ней.\n",
      "[03:46.260 --> 03:49.500]  А затем и скромсали, покрыли шрамами все тело.\n",
      "[03:50.100 --> 03:55.040]  Можешь себе представить, какая боль, какое унижение высечено на ее кожу.\n",
      "[03:55.920 --> 03:58.100]  Вечное напоминание о том дне.\n",
      "[03:58.560 --> 04:02.280]  Соня идет драться не из гордости, не ради статуса.\n",
      "[04:02.880 --> 04:05.800]  И уж точно не ради твоих желоких денег.\n",
      "[04:07.200 --> 04:10.920]  Она воюет с теми, кто сделал это.\n",
      "[04:13.020 --> 04:16.580]  Так и быть. Не стану настаивать.\n",
      "[04:17.860 --> 04:19.280]  Говна кусок.\n",
      "[04:24.840 --> 04:27.100]  Надеюсь, что вы передумаете.\n",
      "[04:53.340 --> 04:54.740]  ТРЕВОЖНАЯ МУЗЫКА\n",
      "[05:05.800 --> 05:07.520]  ТРЕВОЖНАЯ МУЗЫКА\n",
      "[05:08.800 --> 05:10.800]  ВОСТОРЖЕННЫЕ ВОЗГЛАСЫ\n",
      "[05:14.880 --> 05:20.180]  Прилесная девчужина. Тебе конец.\n",
      "[05:20.840 --> 05:23.780]  Конец, конец.\n",
      "[05:26.800 --> 05:27.640]  Ты в норме?\n",
      "[05:28.320 --> 05:29.720]  ВОСТОРЖЕННЫЕ ВОЗГЛАСЫ\n",
      "[05:36.240 --> 05:42.820]  Сегодня особая, особая ночь. Ночь большого поединка.\n",
      "[05:43.900 --> 05:48.620]  Жестокие двори в смертельной схватке.\n",
      "[05:50.480 --> 05:53.340]  Кровь целый оген!\n",
      "[05:54.620 --> 05:57.100]  Связь установлена, Соня. Ты готова? Ждем тебя.\n",
      "[06:06.700 --> 06:13.600]  Причайте. Здравствую, прескую, непобедимую зверюму.\n",
      "[06:15.800 --> 06:16.660]  Готовы к бою?\n",
      "[06:17.120 --> 06:18.840]  Представляю вам.\n",
      "[06:19.360 --> 06:20.240]  Она в ударе.\n",
      "[06:21.000 --> 06:22.320]  Ка-ни-во!\n",
      "[06:25.540 --> 06:26.780]  ВОСТОРЖЕННЫЕ ВОЗГЛАСЫ\n",
      "[06:36.400 --> 06:37.800]  Слышите?\n",
      "[06:39.460 --> 06:42.240]  О, это ведь дод.\n",
      "[06:43.300 --> 06:44.280]  Дод!\n",
      "[06:44.880 --> 06:45.940]  Дод!\n",
      "[06:46.520 --> 06:48.960]  Кто всех разнесет?\n",
      "[06:49.680 --> 06:51.700]  Это дурма!\n",
      "[06:52.420 --> 06:53.040]  Крапка!\n",
      "[06:57.440 --> 06:58.840]  Крапка!\n",
      "[07:02.040 --> 07:06.500]  Итак! Вы готовы?\n",
      "[07:16.560 --> 07:17.960]  Так!\n",
      "[07:17.960 --> 07:20.220]  Ах ты, маленькая сыочка!\n",
      "[07:42.540 --> 07:43.860]  Ты бивай!\n",
      "[07:51.240 --> 07:53.600]  Сюрприз облеки!\n",
      "[08:00.960 --> 08:03.940]  У нее боль зашкаливает.\n",
      "[08:20.880 --> 08:23.080]  ТРЕВОЖНАЯ МУЗЫКА\n",
      "[08:35.500 --> 08:38.060]  Давай, придурок!\n",
      "[08:53.780 --> 08:54.500]  ТРЕВОЖНАЯ МУЗЫКА\n",
      "[08:58.360 --> 08:59.660]  Это еще что?\n",
      "[08:59.800 --> 09:00.520]  Твою мать!\n",
      "[09:35.240 --> 09:36.640]  ТРЕВОЖНАЯ МУЗЫКА\n",
      "[09:55.800 --> 09:57.960]  ТРЕВОЖНАЯ МУЗЫКА\n",
      "[10:02.940 --> 10:04.340]  ТРЕВОЖНАЯ МУЗЫКА\n",
      "[10:04.340 --> 10:08.440]  ТРЕВОЖНАЯ МУЗЫКА\n",
      "[10:11.960 --> 10:12.380]  Чего это?\n",
      "[10:16.440 --> 10:17.060]  ТРЕВОЖНАЯ МУЗЫКА\n",
      "[10:20.900 --> 10:21.500]  Пицца!\n",
      "[10:26.020 --> 10:27.220]  ТРЕВОЖНАЯ МУЗЫКА\n",
      "[10:28.780 --> 10:31.240]  О, нет! А покурать не нельзя!\n",
      "[10:31.500 --> 10:32.920]  Это кто-нибудь уберет?\n",
      "[10:33.740 --> 10:35.320]  Всем плевать, дружище.\n",
      "[10:35.440 --> 10:37.440]  Даю им 5 минут, потом сам уберу.\n",
      "[10:38.280 --> 10:39.100]  Чертого дыра!\n",
      "[10:39.240 --> 10:40.600]  Это что за фукус рукой?\n",
      "[10:41.360 --> 10:42.480]  Жулиничество, вот что.\n",
      "[10:42.940 --> 10:44.680]  Она из кости, это по правилам.\n",
      "[10:45.080 --> 10:47.880]  Да, но как они спроектировали такую цельную конструкцию?\n",
      "[10:48.420 --> 10:49.880]  А ты не верила в победу.\n",
      "[11:02.180 --> 11:02.860]  Заблудилась?\n",
      "[11:04.900 --> 11:06.800]  Это место оно.\n",
      "[11:08.400 --> 11:09.080]  Удивительное.\n",
      "[11:11.600 --> 11:13.080]  Ты удивительная.\n",
      "[11:13.680 --> 11:14.200]  Спасибо.\n",
      "[11:15.300 --> 11:18.080]  Слушай, почему ты с этим...\n",
      "[11:18.080 --> 11:18.560]  Дико?\n",
      "[11:20.600 --> 11:21.660]  Безопасность?\n",
      "[11:22.940 --> 11:23.820]  Ясно.\n",
      "[11:24.680 --> 11:26.360]  Думала его бросить?\n",
      "[11:27.260 --> 11:27.660]  Иногда.\n",
      "[11:29.620 --> 11:30.440]  Постоянно.\n",
      "[11:31.440 --> 11:33.020]  Присоединяйся к нам?\n",
      "[11:34.660 --> 11:35.780]  Нет.\n",
      "[11:37.240 --> 11:38.040]  Не могу.\n",
      "[11:39.040 --> 11:40.980]  Я тебя завидую.\n",
      "[11:41.740 --> 11:42.980]  Ты храбрая.\n",
      "[11:43.760 --> 11:46.040]  Я даже слегка тебя побаивываюсь.\n",
      "[11:49.100 --> 11:50.980]  Мне такое не стать.\n",
      "[12:05.680 --> 12:10.220]  Как тебе удается всё время драться?\n",
      "[12:10.860 --> 12:11.700]  Ненавидеть?\n",
      "[12:12.000 --> 12:12.780]  Не страшно?\n",
      "[12:13.340 --> 12:14.100]  Страшно?\n",
      "[12:16.280 --> 12:17.560]  Постоянно.\n",
      "[12:18.120 --> 12:19.400]  А ненависть?\n",
      "[12:20.280 --> 12:20.960]  Я не знаю.\n",
      "[12:20.960 --> 12:20.960]  Я не знаю.\n",
      "[12:20.960 --> 12:20.960]  Я не знаю.\n",
      "[12:20.960 --> 12:20.960]  Я не знаю.\n",
      "[12:20.960 --> 12:20.960]  Я не знаю.\n",
      "[12:20.960 --> 12:20.960]  Я не знаю.\n",
      "[12:20.960 --> 12:20.960]  Я не знаю.\n",
      "[12:20.960 --> 12:22.740]  Ей пришлось научиться.\n",
      "[12:23.880 --> 12:25.760]  С ненавистью не рождаются.\n",
      "[12:26.880 --> 12:27.940]  Зато страх.\n",
      "[12:28.560 --> 12:30.680]  Страх привечен.\n",
      "[12:31.720 --> 12:33.280]  Он запомняет тебя.\n",
      "[12:34.560 --> 12:35.680]  Ты видишь его.\n",
      "[12:36.580 --> 12:37.500]  Слышишь?\n",
      "[12:40.560 --> 12:41.960]  Пробуешь?\n",
      "[12:43.480 --> 12:46.400]  Он не даёт мне умереть.\n",
      "[12:46.400 --> 12:56.000]  А тогда в ту ночь те бандиты, они...\n",
      "[12:56.000 --> 12:57.380]  Насилие?\n",
      "[12:59.160 --> 12:59.760]  Да.\n",
      "[13:00.900 --> 13:02.240]  Дело не в нём.\n",
      "[13:04.280 --> 13:05.680]  Вы это трудно поверить?\n",
      "[13:06.960 --> 13:08.720]  Никто и не верит.\n",
      "[13:10.220 --> 13:12.420]  Но мой козырь в другом.\n",
      "[13:13.360 --> 13:15.940]  Злая девчонка жаждет месте.\n",
      "[13:16.760 --> 13:17.960]  Дика думает так.\n",
      "[13:19.700 --> 13:21.180]  Потому что хочет.\n",
      "[13:23.520 --> 13:24.400]  Как и все.\n",
      "[13:31.420 --> 13:33.240]  Каждый видит то, что хочет.\n",
      "[14:02.400 --> 14:05.820]  Теперь тебе страшно.\n",
      "[14:11.000 --> 14:12.400]  Ты...\n",
      "[14:12.400 --> 14:12.400]  Ты...\n",
      "[14:12.400 --> 14:12.400]  Ты...\n",
      "[14:12.400 --> 14:12.400]  Ты...\n",
      "[14:12.400 --> 14:12.400]  Ты...\n",
      "[14:12.400 --> 14:12.400]  Ты...\n",
      "[14:12.400 --> 14:12.400]  Ты...\n",
      "[14:12.400 --> 14:12.400]  Ты...\n",
      "[14:12.400 --> 14:12.400]  Ты...\n",
      "[14:12.400 --> 14:15.480]  Очень сильно разозлила Дика.\n",
      "[14:18.400 --> 14:19.960]  Глупая девчонка.\n",
      "[14:21.020 --> 14:23.360]  Стоила того твоя гордость.\n",
      "[14:24.080 --> 14:25.340]  Ловки.\n",
      "[14:26.460 --> 14:26.940]  Трёк.\n",
      "[14:36.400 --> 14:39.020]  Но план так себе.\n",
      "[14:44.720 --> 14:46.180]  Кто ты?\n",
      "[14:47.020 --> 14:53.260]  Всего лишь пара киперпроцессоров срощенных с позвоночником.\n",
      "[14:54.360 --> 14:55.860]  Ты не здесь.\n",
      "[14:56.680 --> 14:57.020]  Нет.\n",
      "[14:57.820 --> 15:01.560]  В ту ночь у СИ Врина нашли меня и спасли тело.\n",
      "[15:01.840 --> 15:04.060]  Но бандиты размозжили мне череп.\n",
      "[15:04.800 --> 15:06.660]  Хочешь узнать мой козырь?\n",
      "[15:07.160 --> 15:11.140]  Всякий раз, сходя на ринг, я борюсь за жизнь.\n",
      "[15:11.140 --> 15:12.160]  Страх.\n",
      "[15:12.640 --> 15:14.280]  Вот мой козырь.\n",
      "[15:19.140 --> 15:21.900]  Это страх смерти.\n",
      "[15:23.100 --> 15:24.500]  Чувствуешь?\n",
      "[15:28.880 --> 15:32.040]  Теперь тебе страшно.\n",
      "[15:48.740 --> 15:50.420]  СПОКОЙНАЯ МУЗЫКА\n",
      "[16:31.960 --> 16:33.360]  ТРЕВОЖНАЯ МУЗЫКА\n",
      "[17:09.720 --> 17:11.120]  Редактор субтитров А.Синецкая\n",
      "[17:11.120 --> 17:11.120]  Корректор А.Егорова\n",
      "[17:13.000 --> 17:14.400]  Корректор А.Егорова\n",
      "✅ Распознано 184 сегментов речи\n",
      "💾 Экспорт полного JSON-отчета...\n",
      "✅ Полный отчёт сохранён: reports\\Video_02_full_report.json\n",
      "\n",
      "✅ Всего сцен: 40, распознанных фрагментов: 184\n",
      "🎚 Расчёт энергии по кадрам длительностью 1.0 сек...\n",
      "✅ Расчёт завершён. Кадров: 1035\n"
     ]
    },
    {
     "data": {
      "image/png": "[encoded data removed]",
      "text/plain": [
       "<Figure size 1400x400 with 1 Axes>"
      ]
     },
     "metadata": {},
     "output_type": "display_data"
    }
   ],
   "source": [
    "# Запуск анализа\n",
    "splitter = AudioAnalyzer(\n",
    "    video_path=VIDEO_PATH,\n",
    "    output_dir=OUTPUT_DIR,\n",
    "    whisper_model_size='small'\n",
    ")\n",
    "splitter.run(sensitivity=0.88, min_scene_duration=2.0)\n",
    "\n",
    "segments_short = splitter.segments_short  # для отчётов и группировок\n",
    "segments_full = splitter.segments   \n",
    "\n",
    "# Вычисление аудиоэнергии по кадрам\n",
    "energy = splitter.detect_audio_activity(frame_duration=1.0)\n",
    "\n",
    "# Визуализация энергии\n",
    "import matplotlib.pyplot as plt\n",
    "\n",
    "plt.figure(figsize=(14, 4))\n",
    "plt.plot(energy)\n",
    "plt.title(\"Audio Energy per Frame\")\n",
    "plt.xlabel(\"Frame index\")\n",
    "plt.ylabel(\"Energy\")\n",
    "plt.grid(True)\n",
    "plt.show()\n"
   ]
  },
  {
   "cell_type": "markdown",
   "id": "123b0a082d3914dc",
   "metadata": {},
   "source": [
    "# Обогащение сцен транскриптами и аудио энергией\n",
    "\n",
    "### Добавляем к сценам распознанный текст и усреднённые показатели звуковой активности.\n"
   ]
  },
  {
   "cell_type": "code",
   "execution_count": 6,
   "id": "790ca4d5",
   "metadata": {},
   "outputs": [
    {
     "name": "stdout",
     "output_type": "stream",
     "text": [
      "🧠 Загрузка sentence-transformer модели...\n",
      "✅ SentenceTransformer готов.\n",
      "🚀 Запуск полного процесса обогащения и группировки...\n",
      "🎭 Обогащение сцен...\n",
      "🔊 Добавление речевых сегментов и аудиоэнергии...\n",
      "✅ Обогащено сцен: 1248\n",
      "🧩 Группировка сцен методом: semantic\n",
      "✅ Сцен сгруппировано: 999\n",
      "🧼 Постобработка: разрешение пересечений и объединение коротких сцен...\n",
      "✅ Финальное количество сцен после очистки: 50\n",
      "💾 Сохранение отчета по сценам...\n",
      "✅ JSON-отчёт по сценам сохранён: reports\\scenes_enriched_report.json\n",
      "📁 JSON-отчет успешно сохранен.\n",
      "✅ Обработка сцен завершена.\n"
     ]
    }
   ],
   "source": [
    "enricher = SceneEnricher(segments, energy)\n",
    "#scenes_final = enricher.run(scenes, track_id_to_person)\n",
    "scenes_final = enricher.run(scenes)\n",
    "#scenes_final = enricher.run(scene_data, track_id_to_person, print_report=False)\n"
   ]
  },
  {
   "cell_type": "code",
   "execution_count": 7,
   "id": "5d81463b",
   "metadata": {},
   "outputs": [
    {
     "name": "stderr",
     "output_type": "stream",
     "text": [
      "100%|███████████████████████████████████████| 139M/139M [00:34<00:00, 4.23MiB/s]\n"
     ]
    },
    {
     "name": "stdout",
     "output_type": "stream",
     "text": [
      "Распознавание речи для: videos/Video_02.avi\n"
     ]
    },
    {
     "name": "stderr",
     "output_type": "stream",
     "text": [
      "d:\\All_projects\\TGU_projects\\Hackathon\\kion_practice-2\\venv\\lib\\site-packages\\whisper\\timing.py:42: UserWarning: Failed to launch Triton kernels, likely due to missing CUDA toolkit; falling back to a slower median kernel implementation...\n",
      "  warnings.warn(\n",
      "d:\\All_projects\\TGU_projects\\Hackathon\\kion_practice-2\\venv\\lib\\site-packages\\whisper\\timing.py:146: UserWarning: Failed to launch Triton kernels, likely due to missing CUDA toolkit; falling back to a slower DTW implementation...\n",
      "  warnings.warn(\n"
     ]
    },
    {
     "name": "stdout",
     "output_type": "stream",
     "text": [
      "[00:40.560 --> 00:41.960]  СПОКОЙНАЯ МУЗЫКА\n",
      "[00:50.980 --> 00:52.380]  СПОКОЙНАЯ МУЗЫКА\n"
     ]
    },
    {
     "name": "stderr",
     "output_type": "stream",
     "text": [
      "d:\\All_projects\\TGU_projects\\Hackathon\\kion_practice-2\\venv\\lib\\site-packages\\whisper\\timing.py:42: UserWarning: Failed to launch Triton kernels, likely due to missing CUDA toolkit; falling back to a slower median kernel implementation...\n",
      "  warnings.warn(\n",
      "d:\\All_projects\\TGU_projects\\Hackathon\\kion_practice-2\\venv\\lib\\site-packages\\whisper\\timing.py:146: UserWarning: Failed to launch Triton kernels, likely due to missing CUDA toolkit; falling back to a slower DTW implementation...\n",
      "  warnings.warn(\n"
     ]
    },
    {
     "name": "stdout",
     "output_type": "stream",
     "text": [
      "[01:11.540 --> 01:12.940]  СПОКОЙНАЯ МУЗЫКА\n",
      "[01:12.940 --> 01:12.940]  СПОКОЙНАЯ МУЗЫКА\n",
      "[01:22.100 --> 01:22.940]  СПОКОЙНАЯ МУЗЫКА\n",
      "[01:25.740 --> 01:30.460]  Мой лачина у Вас, она мурулась, как котенок. Не подведет.\n",
      "[01:39.340 --> 01:39.800]  СПОКОЙНАЯ МУЗЫКА\n",
      "[01:43.120 --> 01:45.200]  Звенал, норме, не то, что в прошлой разе.\n",
      "[01:45.360 --> 01:47.200]  Ну да, после обновления поменьхи исчезли.\n",
      "[01:47.580 --> 01:49.140]  Вроде да, и все же надо.\n",
      "[01:51.340 --> 01:51.800]  Здрасте.\n",
      "[01:52.480 --> 01:56.240]  Ну, в чем дело? Чем обязаны?\n",
      "[01:56.240 --> 01:57.600]  Мои извинения.\n",
      "[01:58.620 --> 02:01.900]  Наши вечеринки становятся популярными.\n",
      "[02:02.960 --> 02:05.000]  Нартура их гонорар.\n",
      "[02:07.940 --> 02:09.100]  О, спасибо.\n",
      "[02:12.240 --> 02:16.920]  Я могу взглянуть весьма насульшок.\n",
      "[02:18.620 --> 02:21.840]  Да, он великолепен.\n",
      "[02:22.340 --> 02:23.980]  Да, она.\n",
      "[02:23.980 --> 02:30.380]  А, разумеется, извините, Ледин.\n",
      "[02:31.140 --> 02:34.860]  Что вы скажете, если я предложу вам проиграть?\n",
      "[02:37.360 --> 02:38.780]  Да пошел ты.\n",
      "[02:39.640 --> 02:43.680]  Не стоит так залиться, дорогая. Это бизнес.\n",
      "[02:44.280 --> 02:48.920]  Не для меня. Я не поддаюсь. И не проигрываю.\n",
      "[02:49.580 --> 02:51.320]  Это делает тебя особенный.\n",
      "[02:52.740 --> 02:55.460]  Не особенный. Уникальный.\n",
      "[02:56.360 --> 02:59.200]  Только в нашей команде проводник женщина.\n",
      "[03:00.060 --> 03:03.520]  Это все? Ты мой козырь.\n",
      "[03:04.440 --> 03:06.620]  Женщины дерутся лучше, мужчин.\n",
      "[03:07.140 --> 03:09.060]  Это лучше. Да.\n",
      "[03:09.180 --> 03:11.200]  Моя девочка. 17 побед подряд.\n",
      "[03:11.520 --> 03:13.140]  Вам достойно заплатят.\n",
      "[03:13.600 --> 03:15.280]  Да ты что, совсем оглох.\n",
      "[03:15.500 --> 03:17.440]  Это тебе важные деньги, а нам нет.\n",
      "[03:17.440 --> 03:19.160]  500 тысяч.\n",
      "[03:21.820 --> 03:22.820]  Нет.\n",
      "[03:24.680 --> 03:27.120]  Один незначительный проигрыш, по-посновому.\n",
      "[03:27.160 --> 03:28.160]  Незначительной.\n",
      "[03:28.660 --> 03:30.500]  Да какие же выказлы?\n",
      "[03:31.020 --> 03:33.920]  Вот такие, как ты, выкручивали ей руки.\n",
      "[03:40.440 --> 03:43.320]  Год назад соня похитили бандиты.\n",
      "[03:44.360 --> 03:45.660]  Они на друга олись над ней.\n",
      "[03:45.660 --> 03:49.520]  А затем из Крамсалей покрыли шрамами все тело.\n",
      "[03:50.000 --> 03:52.140]  Можешь себе представить, какая боль,\n",
      "[03:52.380 --> 03:55.020]  какое унижение высечено на ее кожи.\n",
      "[03:55.940 --> 03:58.100]  Вечное напоминание о том дне.\n",
      "[03:58.740 --> 04:00.860]  Соня идёт драться, не из гордости.\n",
      "[04:01.180 --> 04:02.280]  Не ради статуса.\n",
      "[04:02.800 --> 04:05.880]  И уж точно не ради твоих жёлких денег.\n",
      "[04:07.820 --> 04:10.920]  Она воюет с теми. Кто сделала это?\n",
      "[04:12.820 --> 04:13.980]  Так и быть.\n",
      "[04:13.980 --> 04:16.960]  Не стану настоють.\n",
      "[04:18.080 --> 04:19.320]  Гав на кусок.\n",
      "[04:24.980 --> 04:27.320]  Надеюсь, что вы передумаете.\n",
      "[05:08.800 --> 05:10.200]  ВЕСЕЛАЯ МУЗЫКА\n",
      "[05:10.200 --> 05:10.200]  ВЕСЕЛАЯ МУЗЫКА\n",
      "[05:10.200 --> 05:11.920]  ВЕСЕЛАЯ МУЗЫКА\n",
      "[05:13.380 --> 05:14.780]  УДАРЫ\n",
      "[05:14.780 --> 05:17.280]  Приресная девчузская.\n",
      "[05:17.960 --> 05:19.840]  Тебя конец.\n",
      "[05:20.760 --> 05:21.580]  Конец.\n",
      "[05:22.360 --> 05:23.120]  Конец.\n",
      "[05:26.920 --> 05:27.660]  Ты в норме?\n",
      "[05:35.980 --> 05:39.920]  Сегодня особая, особая ночь.\n",
      "[05:40.560 --> 05:42.900]  Ночь большого поединка.\n",
      "[05:43.760 --> 05:45.800]  Жестоке дворей.\n",
      "[05:46.580 --> 05:48.600]  Смерчельной схватки.\n",
      "[05:50.180 --> 05:51.460]  Кроф.\n",
      "[05:51.960 --> 05:53.840]  Целый океан!\n",
      "[05:54.740 --> 05:56.480]  Связь суставно, Вина Сонин. Ты готова?\n",
      "[05:56.660 --> 05:57.120]  Ждём тебе.\n",
      "[06:06.380 --> 06:07.780]  Вечайте.\n",
      "[06:07.780 --> 06:08.040]  Здравствуйте.\n",
      "[06:10.780 --> 06:13.420]  Престую. Не победимую, Смерёга.\n",
      "[06:15.360 --> 06:16.620]  Готово двое?\n",
      "[06:17.120 --> 06:18.660]  Приятного дня, Ював.\n",
      "[06:19.200 --> 06:20.240]  Она в ударе.\n",
      "[06:21.780 --> 06:22.780]  Канево!\n",
      "[06:32.000 --> 06:33.400]  ВЕСЕЛАЯ МУЗЫКА\n",
      "[06:36.520 --> 06:37.920]  Слышите.\n",
      "[06:39.200 --> 06:41.900]  О, это ведь тот.\n",
      "[06:43.400 --> 06:44.000]  Тот.\n",
      "[06:45.020 --> 06:45.820]  Тот.\n",
      "[06:46.580 --> 06:48.860]  То всех разнесёт.\n",
      "[06:49.640 --> 06:51.640]  Это дурба!\n",
      "[07:01.060 --> 07:02.460]  Тот.\n",
      "[07:02.460 --> 07:03.380]  Это...\n",
      "[07:03.380 --> 07:04.220]  Виз.\n",
      "[07:05.380 --> 07:06.300]  Готово!\n",
      "[07:18.460 --> 07:19.140]  ВИЗГОРОВ\n",
      "[07:19.140 --> 07:20.320]  Брактем, оликинс, сучка!\n",
      "[07:42.340 --> 07:43.740]  ВИЗГОРОВ\n",
      "[07:43.740 --> 07:44.300]  ВИЗГОРОВ\n",
      "[07:51.160 --> 07:53.520]  Цепри собрётки!\n",
      "[08:00.240 --> 08:03.900]  У неё боль зашкаливает.\n",
      "[08:32.420 --> 08:33.820]  ВИЗГОРОВ\n",
      "[08:33.820 --> 08:33.820]  ВИЗГОРОВ\n",
      "[08:36.880 --> 08:38.240]  Давай, придурок!\n",
      "[08:58.360 --> 08:59.640]  Это еще что?\n",
      "[08:59.800 --> 09:00.380]  Твой ума.\n",
      "[10:09.400 --> 10:10.340]  Ох!\n",
      "[10:20.440 --> 10:21.380]  Пится!\n",
      "[10:21.780 --> 10:22.240]  Пошел!\n",
      "[10:23.900 --> 10:24.520]  Аааа!\n",
      "[10:29.800 --> 10:31.280]  Апокурать ли нельзя?\n",
      "[10:31.380 --> 10:32.980]  А это кто-нибудь уберет?\n",
      "[10:34.220 --> 10:35.300]  Семплевая, дружище.\n",
      "[10:35.480 --> 10:37.420]  Даю им пять минут, потом сам уберу.\n",
      "[10:38.200 --> 10:39.080]  Черт, эвдера.\n",
      "[10:39.240 --> 10:40.560]  Это что за покус рукой?\n",
      "[10:41.540 --> 10:42.480]  Жюльничество, вот что.\n",
      "[10:42.980 --> 10:44.580]  Она искать сте, это поправило?\n",
      "[10:45.080 --> 10:47.860]  Да, но как они спроектировали такую цельную конструкцию?\n",
      "[10:48.380 --> 10:49.840]  А ты не верила в победу.\n",
      "[11:01.500 --> 11:02.900]  Заблудилась?\n",
      "[11:04.120 --> 11:09.340]  Это место, но удивительное.\n",
      "[11:10.680 --> 11:13.140]  Ты удивительная.\n",
      "[11:13.780 --> 11:14.180]  Спасибо.\n",
      "[11:15.420 --> 11:18.540]  Слушай, почему ты с этим дико?\n",
      "[11:19.720 --> 11:19.820]  Я не знаю, что это.\n",
      "[11:19.820 --> 11:19.820]  Я не знаю, что это.\n",
      "[11:19.820 --> 11:19.820]  Я не знаю, что это.\n",
      "[11:19.820 --> 11:19.820]  Я не знаю, что это.\n",
      "[11:20.820 --> 11:21.720]  Безопасность?\n",
      "[11:22.940 --> 11:23.840]  Ясно.\n",
      "[11:25.120 --> 11:26.380]  Думала его бросить?\n",
      "[11:27.260 --> 11:27.640]  Иногда.\n",
      "[11:29.440 --> 11:30.460]  Постоянно.\n",
      "[11:31.860 --> 11:33.000]  Брисоединяйся к нам?\n",
      "[11:34.440 --> 11:35.740]  Нет.\n",
      "[11:36.420 --> 11:38.040]  Не могу.\n",
      "[11:39.780 --> 11:40.940]  Я тебе завидую.\n",
      "[11:42.080 --> 11:42.920]  Ты храбрая.\n",
      "[11:43.960 --> 11:46.740]  Я даже слегка тебя побоевываюсь.\n",
      "[11:46.740 --> 11:50.740]  Мне такое не статье.\n",
      "[12:05.880 --> 12:07.820]  Как тебе удается?\n",
      "[12:08.300 --> 12:10.180]  Все время драться.\n",
      "[12:10.940 --> 12:11.760]  Не на видеть.\n",
      "[12:12.000 --> 12:12.760]  Не страшно.\n",
      "[12:13.320 --> 12:14.040]  Страшно?\n",
      "[12:16.040 --> 12:17.440]  Постоянно.\n",
      "[12:18.160 --> 12:19.300]  Одненовесть.\n",
      "[12:20.700 --> 12:22.780]  Ей пришлось научиться.\n",
      "[12:23.960 --> 12:25.780]  С ней она вести и не рождаются.\n",
      "[12:27.000 --> 12:27.940]  Зато страх.\n",
      "[12:29.080 --> 12:30.620]  Страутор вечен.\n",
      "[12:31.800 --> 12:33.360]  Он заполняет тебя.\n",
      "[12:34.560 --> 12:35.740]  Ты видишь его.\n",
      "[12:36.620 --> 12:37.360]  Злышишь.\n",
      "[12:40.520 --> 12:41.780]  Пропаешь.\n",
      "[12:44.040 --> 12:46.460]  Он не дает мне умирить.\n",
      "[12:48.060 --> 12:51.480]  А тогда в ту ночь.\n",
      "[12:52.660 --> 12:53.620]  Бандиты.\n",
      "[12:54.560 --> 12:54.880]  Они.\n",
      "[12:56.380 --> 12:57.340]  Насилие?\n",
      "[12:59.120 --> 12:59.780]  Да.\n",
      "[13:01.400 --> 13:02.160]  Дело не в нем.\n",
      "[13:04.420 --> 13:05.720]  В это трудно поверить.\n",
      "[13:07.540 --> 13:08.780]  Никто и не верит.\n",
      "[13:10.640 --> 13:12.380]  Но мой козырь в другом.\n",
      "[13:13.380 --> 13:15.960]  Зла я девчонка жаждет вместе.\n",
      "[13:16.760 --> 13:17.940]  Ди-ка думай так.\n",
      "[13:20.000 --> 13:21.240]  Потому что хочет.\n",
      "[13:23.140 --> 13:24.400]  Как и все.\n",
      "[13:31.520 --> 13:33.260]  Каждый видит то, что хочет.\n",
      "[13:42.380 --> 13:42.380]  Правда.\n",
      "[14:12.320 --> 14:15.320]  А Visual şu кревlled mentorship\n",
      "[14:17.800 --> 14:23.360]  Голуба идёт в чамках. Стой вот его от твоя гордость.\n",
      "[14:24.200 --> 14:25.360]  Ловкий.\n",
      "[14:26.560 --> 14:26.940]  Трёг.\n",
      "[14:36.320 --> 14:39.040]  Ну, Палан. Так себе.\n",
      "[14:45.320 --> 14:46.220]  Тёт ты.\n",
      "[14:47.040 --> 14:53.240]  Всего лишь пара кибер процессоров с рощаных с позвоночником.\n",
      "[14:54.360 --> 14:55.940]  Ты не здесь.\n",
      "[14:56.660 --> 15:01.520]  Нет, что ночью я с Иври на нашли меня и спасли тело.\n",
      "[15:01.960 --> 15:03.880]  Но бандиты разможили мне чель.\n",
      "[15:04.500 --> 15:06.640]  Хочешь узнать мой козырь?\n",
      "[15:07.140 --> 15:11.200]  Всякий раз, в сходя на ринг, я боюсь за жизнь.\n",
      "[15:11.740 --> 15:14.220]  Старах! Вот мой козырь.\n",
      "[15:18.180 --> 15:20.300]  Это страх.\n",
      "[15:21.020 --> 15:21.320]  Смерти.\n",
      "[15:23.140 --> 15:24.540]  Чувствуешь?\n",
      "[15:28.780 --> 15:31.320]  Теперь тебе страшно.\n",
      "[16:43.900 --> 16:45.300]  Трёг.\n",
      "[17:12.860 --> 17:14.260]  Трёг.\n",
      " Сегменты сохранены в: reports\\Video_02_segments.json\n",
      "Отчёт сохранён: reports\\Video_02_asr_report.json\n"
     ]
    }
   ],
   "source": [
    "asr = ASRProcessor()\n",
    "segments_short = asr.process(VIDEO_PATH)\n"
   ]
  },
  {
   "cell_type": "code",
   "execution_count": 8,
   "id": "3c8c4e3c",
   "metadata": {},
   "outputs": [
    {
     "name": "stdout",
     "output_type": "stream",
     "text": [
      "❌ Ошибка разбора JSON из ответа модели.\n",
      "🧠 Тематический отчёт сохранён: reports\\Video_02_themes_report.json\n"
     ]
    }
   ],
   "source": [
    "themer = OpenAIThemer(\n",
    "        api_key=\"sk-W9hAXx2k0HSgIC3odXXe18e0DiPLwjNG\",  # Добавь свой ключ\n",
    "        base_url=\"https://api.proxyapi.ru/openai/v1\"\n",
    "    )\n",
    "themes = themer.get_themes(segments_short, audio_path=VIDEO_PATH)"
   ]
  },
  {
   "cell_type": "code",
   "execution_count": null,
   "id": "af83b41a",
   "metadata": {},
   "outputs": [],
   "source": [
    "merger = UnifiedSceneMerger(\"video.mp4\")\n",
    "final_scenes = merger.run()"
   ]
  }
 ],
 "metadata": {
  "kernelspec": {
   "display_name": "venv",
   "language": "python",
   "name": "python3"
  },
  "language_info": {
   "codemirror_mode": {
    "name": "ipython",
    "version": 3
   },
   "file_extension": ".py",
   "mimetype": "text/x-python",
   "name": "python",
   "nbconvert_exporter": "python",
   "pygments_lexer": "ipython3",
   "version": "3.10.7"
  }
 },
 "nbformat": 4,
 "nbformat_minor": 5
}
