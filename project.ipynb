{
 "cells": [
  {
   "cell_type": "code",
   "execution_count": 1,
   "id": "2739479f",
   "metadata": {},
   "outputs": [
    {
     "name": "stdout",
     "output_type": "stream",
     "text": [
      "WARNING:tensorflow:From d:\\All_projects\\TGU_projects\\Hackathon\\kion_practice-2\\venv\\lib\\site-packages\\tf_keras\\src\\losses.py:2976: The name tf.losses.sparse_softmax_cross_entropy is deprecated. Please use tf.compat.v1.losses.sparse_softmax_cross_entropy instead.\n",
      "\n"
     ]
    }
   ],
   "source": [
    "# Импорт необходимых модулей\n",
    "import os\n",
    "import pickle\n",
    "#from classes.video_analyzer_complex import VideoPipeline\n",
    "from classes.video_anlyzer_without_faceraid import VideoPipeline\n",
    "from classes.scene_enricher import SceneEnricher\n",
    "from classes.openai import OpenAIThemer\n",
    "from classes.scene_merge import UnifiedSceneMerger\n",
    "import matplotlib.pyplot as plt\n",
    "from classes.audioanalyzer_and_transcriptor import AudioAnalyzer"
   ]
  },
  {
   "cell_type": "code",
   "execution_count": 2,
   "id": "6e44d76d",
   "metadata": {},
   "outputs": [
    {
     "name": "stdout",
     "output_type": "stream",
     "text": [
      "Available providers: ['TensorrtExecutionProvider', 'CUDAExecutionProvider', 'CPUExecutionProvider']\n",
      "GPU\n",
      "CUDA доступен: True\n",
      "Устройство: NVIDIA GeForce RTX 3070\n"
     ]
    }
   ],
   "source": [
    "import onnxruntime as ort\n",
    "print(\"Available providers:\", ort.get_available_providers())\n",
    "print(ort.get_device())\n",
    "import torch\n",
    "print(\"CUDA доступен:\", torch.cuda.is_available())\n",
    "print(\"Устройство:\", torch.cuda.get_device_name(0) if torch.cuda.is_available() else \"Нет\")\n"
   ]
  },
  {
   "cell_type": "code",
   "execution_count": 3,
   "id": "ab7abf71",
   "metadata": {},
   "outputs": [],
   "source": [
    "VIDEO_PATH = \"videos/Video_02.avi\"          # Путь к видеофайлу\n",
    "AUDIO_PATH = \"temp/temp_audio.wav\"           # Временный WAV\n",
    "OUTPUT_DIR = \"output_files/\"\n",
    "TEMP_DIR = \"temp/\"         # Папка для результатов\n",
    "CACHE_PATH = os.path.join(TEMP_DIR, \"results.pkl\")\n",
    "MIN_SCENE_LENGTH = 2.0                  # Мин. длительность сцены\n",
    "MAX_SCENE_LENGTH = 300.0                # Макс. допустимая длина сцены (5 мин)\n"
   ]
  },
  {
   "cell_type": "code",
   "execution_count": 4,
   "id": "afb91b07",
   "metadata": {},
   "outputs": [
    {
     "name": "stdout",
     "output_type": "stream",
     "text": [
      "🚀 Запуск аудиоанализа...\n",
      "🎧 Извлечение аудио из видео...\n",
      "✅ Аудио сохранено: output_files/temp_audio.wav\n",
      "📦 Загрузка модели torchopenl3...\n"
     ]
    },
    {
     "name": "stderr",
     "output_type": "stream",
     "text": [
      "d:\\All_projects\\TGU_projects\\Hackathon\\kion_practice-2\\venv\\lib\\site-packages\\torchopenl3\\models.py:200: UserWarning: Empty filters detected in mel frequency basis. Some channels will produce empty responses. Try increasing your sampling rate (and fmax) or reducing n_mels.\n",
      "  mel_basis = librosa.filters.mel(\n"
     ]
    },
    {
     "name": "stdout",
     "output_type": "stream",
     "text": [
      "✅ torchopenl3 модель загружена.\n",
      "WARNING:tensorflow:From d:\\All_projects\\TGU_projects\\Hackathon\\kion_practice-2\\venv\\lib\\site-packages\\tensorflow_hub\\resolver.py:120: The name tf.gfile.MakeDirs is deprecated. Please use tf.io.gfile.makedirs instead.\n",
      "\n"
     ]
    },
    {
     "name": "stderr",
     "output_type": "stream",
     "text": [
      "WARNING:tensorflow:From d:\\All_projects\\TGU_projects\\Hackathon\\kion_practice-2\\venv\\lib\\site-packages\\tensorflow_hub\\resolver.py:120: The name tf.gfile.MakeDirs is deprecated. Please use tf.io.gfile.makedirs instead.\n",
      "\n"
     ]
    },
    {
     "name": "stdout",
     "output_type": "stream",
     "text": [
      "WARNING:tensorflow:From d:\\All_projects\\TGU_projects\\Hackathon\\kion_practice-2\\venv\\lib\\site-packages\\tensorflow_hub\\module_v2.py:126: The name tf.saved_model.load_v2 is deprecated. Please use tf.compat.v2.saved_model.load instead.\n",
      "\n"
     ]
    },
    {
     "name": "stderr",
     "output_type": "stream",
     "text": [
      "WARNING:tensorflow:From d:\\All_projects\\TGU_projects\\Hackathon\\kion_practice-2\\venv\\lib\\site-packages\\tensorflow_hub\\module_v2.py:126: The name tf.saved_model.load_v2 is deprecated. Please use tf.compat.v2.saved_model.load instead.\n",
      "\n"
     ]
    },
    {
     "name": "stdout",
     "output_type": "stream",
     "text": [
      "✅ YAMNet модель загружена.\n",
      "🔍 Извлечение аудиопризнаков с помощью torchopenl3...\n"
     ]
    },
    {
     "name": "stderr",
     "output_type": "stream",
     "text": [
      "WARNING:root:To get accurate results we have to move the data the CPU to use resampy\n"
     ]
    },
    {
     "name": "stdout",
     "output_type": "stream",
     "text": [
      "⏱ Длительность аудио: 1497.31 сек\n",
      "✅ torchopenl3 вернул 1498 эмбеддингов.\n",
      "🔊 Получение меток с YAMNet...\n"
     ]
    },
    {
     "ename": "TypeError",
     "evalue": "argmax(): argument 'input' (position 1) must be Tensor, not tensorflow.python.framework.ops.EagerTensor",
     "output_type": "error",
     "traceback": [
      "\u001b[1;31m---------------------------------------------------------------------------\u001b[0m",
      "\u001b[1;31mTypeError\u001b[0m                                 Traceback (most recent call last)",
      "Cell \u001b[1;32mIn[4], line 7\u001b[0m\n\u001b[0;32m      1\u001b[0m \u001b[38;5;66;03m# Запуск анализа\u001b[39;00m\n\u001b[0;32m      2\u001b[0m splitter \u001b[38;5;241m=\u001b[39m AudioAnalyzer(\n\u001b[0;32m      3\u001b[0m     video_path\u001b[38;5;241m=\u001b[39mVIDEO_PATH,\n\u001b[0;32m      4\u001b[0m     output_dir\u001b[38;5;241m=\u001b[39mOUTPUT_DIR,\n\u001b[0;32m      5\u001b[0m     whisper_model_size\u001b[38;5;241m=\u001b[39m\u001b[38;5;124m'\u001b[39m\u001b[38;5;124msmall\u001b[39m\u001b[38;5;124m'\u001b[39m\n\u001b[0;32m      6\u001b[0m )\n\u001b[1;32m----> 7\u001b[0m \u001b[43msplitter\u001b[49m\u001b[38;5;241;43m.\u001b[39;49m\u001b[43mrun\u001b[49m\u001b[43m(\u001b[49m\u001b[43msensitivity\u001b[49m\u001b[38;5;241;43m=\u001b[39;49m\u001b[38;5;241;43m0.88\u001b[39;49m\u001b[43m,\u001b[49m\u001b[43m \u001b[49m\u001b[43mmin_scene_duration\u001b[49m\u001b[38;5;241;43m=\u001b[39;49m\u001b[38;5;241;43m2.0\u001b[39;49m\u001b[43m)\u001b[49m\n\u001b[0;32m      9\u001b[0m segments_short \u001b[38;5;241m=\u001b[39m splitter\u001b[38;5;241m.\u001b[39msegments_short  \u001b[38;5;66;03m# для отчётов и группировок\u001b[39;00m\n\u001b[0;32m     10\u001b[0m segments_full \u001b[38;5;241m=\u001b[39m splitter\u001b[38;5;241m.\u001b[39msegments   \n",
      "File \u001b[1;32md:\\All_projects\\TGU_projects\\Hackathon\\kion_practice-2\\classes\\audioanalyzer_and_transcriptor.py:149\u001b[0m, in \u001b[0;36mAudioAnalyzer.run\u001b[1;34m(self, sensitivity, min_scene_duration)\u001b[0m\n\u001b[0;32m    146\u001b[0m \u001b[38;5;28mself\u001b[39m\u001b[38;5;241m.\u001b[39mload_models()\n\u001b[0;32m    148\u001b[0m features, timestamps \u001b[38;5;241m=\u001b[39m \u001b[38;5;28mself\u001b[39m\u001b[38;5;241m.\u001b[39mextract_openl3_features()\n\u001b[1;32m--> 149\u001b[0m yamnet_labels \u001b[38;5;241m=\u001b[39m \u001b[38;5;28;43mself\u001b[39;49m\u001b[38;5;241;43m.\u001b[39;49m\u001b[43mextract_yamnet_labels\u001b[49m\u001b[43m(\u001b[49m\u001b[43m)\u001b[49m\n\u001b[0;32m    150\u001b[0m rms_t, rms_vals \u001b[38;5;241m=\u001b[39m \u001b[38;5;28mself\u001b[39m\u001b[38;5;241m.\u001b[39mcompute_rms()\n\u001b[0;32m    152\u001b[0m changes \u001b[38;5;241m=\u001b[39m \u001b[38;5;28mself\u001b[39m\u001b[38;5;241m.\u001b[39mdetect_scenes(features, timestamps, yamnet_labels, rms_t, rms_vals,\n\u001b[0;32m    153\u001b[0m                              sensitivity, min_scene_duration)\n",
      "File \u001b[1;32md:\\All_projects\\TGU_projects\\Hackathon\\kion_practice-2\\classes\\audioanalyzer_and_transcriptor.py:102\u001b[0m, in \u001b[0;36mAudioAnalyzer.extract_yamnet_labels\u001b[1;34m(self)\u001b[0m\n\u001b[0;32m    100\u001b[0m waveform, sr \u001b[38;5;241m=\u001b[39m librosa\u001b[38;5;241m.\u001b[39mload(\u001b[38;5;28mself\u001b[39m\u001b[38;5;241m.\u001b[39maudio_path, sr\u001b[38;5;241m=\u001b[39m\u001b[38;5;241m16000\u001b[39m, mono\u001b[38;5;241m=\u001b[39m\u001b[38;5;28;01mTrue\u001b[39;00m)\n\u001b[0;32m    101\u001b[0m scores, embeddings, spectrogram \u001b[38;5;241m=\u001b[39m \u001b[38;5;28mself\u001b[39m\u001b[38;5;241m.\u001b[39myamnet_model(waveform)\n\u001b[1;32m--> 102\u001b[0m predictions \u001b[38;5;241m=\u001b[39m \u001b[43mtorch\u001b[49m\u001b[38;5;241;43m.\u001b[39;49m\u001b[43margmax\u001b[49m\u001b[43m(\u001b[49m\u001b[43mscores\u001b[49m\u001b[43m,\u001b[49m\u001b[43m \u001b[49m\u001b[43maxis\u001b[49m\u001b[38;5;241;43m=\u001b[39;49m\u001b[38;5;241;43m1\u001b[39;49m\u001b[43m)\u001b[49m\u001b[38;5;241m.\u001b[39mnumpy()\n\u001b[0;32m    103\u001b[0m \u001b[38;5;28mprint\u001b[39m(\u001b[38;5;124mf\u001b[39m\u001b[38;5;124m\"\u001b[39m\u001b[38;5;124m✅ Получено \u001b[39m\u001b[38;5;132;01m{\u001b[39;00m\u001b[38;5;28mlen\u001b[39m(predictions)\u001b[38;5;132;01m}\u001b[39;00m\u001b[38;5;124m аудиометок.\u001b[39m\u001b[38;5;124m\"\u001b[39m)\n\u001b[0;32m    104\u001b[0m \u001b[38;5;28;01mreturn\u001b[39;00m predictions\u001b[38;5;241m.\u001b[39mtolist()\n",
      "\u001b[1;31mTypeError\u001b[0m: argmax(): argument 'input' (position 1) must be Tensor, not tensorflow.python.framework.ops.EagerTensor"
     ]
    }
   ],
   "source": [
    "# Запуск анализа\n",
    "splitter = AudioAnalyzer(\n",
    "    video_path=VIDEO_PATH,\n",
    "    output_dir=OUTPUT_DIR,\n",
    "    whisper_model_size='small'\n",
    ")\n",
    "splitter.run(sensitivity=0.88, min_scene_duration=2.0)\n",
    "\n",
    "segments_short = splitter.segments_short  # для отчётов и группировок\n",
    "segments_full = splitter.segments   \n",
    "\n",
    "# Вычисление аудиоэнергии по кадрам\n",
    "energy = splitter.detect_audio_activity(frame_duration=1.0)\n",
    "\n",
    "# Визуализация энергии\n",
    "import matplotlib.pyplot as plt\n",
    "\n",
    "plt.figure(figsize=(14, 4))\n",
    "plt.plot(energy)\n",
    "plt.title(\"Audio Energy per Frame\")\n",
    "plt.xlabel(\"Frame index\")\n",
    "plt.ylabel(\"Energy\")\n",
    "plt.grid(True)\n",
    "plt.show()"
   ]
  },
  {
   "cell_type": "markdown",
   "id": "20690d6793c8bd80",
   "metadata": {},
   "source": [
    "# Анализ видео и выделение сцен\n",
    "\n",
    "### В этой ячейке мы создаём объект VideoAnalyzer и анализируем видео для получения сцены и лиц, привязанных к трекам.\n"
   ]
  },
  {
   "cell_type": "code",
   "execution_count": 4,
   "id": "da107042",
   "metadata": {},
   "outputs": [
    {
     "name": "stderr",
     "output_type": "stream",
     "text": [
      "d:\\All_projects\\TGU_projects\\Hackathon\\kion_practice-2\\venv\\lib\\site-packages\\torchreid\\utils\\tools.py:43: UserWarning: No file found at \"d:\\All_projects\\TGU_projects\\Hackathon\\kion_practice-2\\venv\\lib\\site-packages\\deep_sort_realtime\\embedder\\weights\\osnet_ain_ms_d_c_wtsonly.pth\"\n",
      "  warnings.warn('No file found at \"{}\"'.format(fpath))\n"
     ]
    },
    {
     "name": "stdout",
     "output_type": "stream",
     "text": [
      "Successfully loaded imagenet pretrained weights from \"C:\\Users\\Dell/.cache\\torch\\checkpoints\\osnet_ain_x1_0_imagenet.pth\"\n",
      "** The following layers are discarded due to unmatched keys or layer size: ['classifier.weight', 'classifier.bias']\n",
      "Model: osnet_ain_x1_0\n",
      "- params: 2,193,616\n",
      "- flops: 978,878,352\n"
     ]
    },
    {
     "name": "stderr",
     "output_type": "stream",
     "text": [
      "Computing embeddings:   0%|          | 0/24826 [00:00<?, ?it/s]d:\\All_projects\\TGU_projects\\Hackathon\\kion_practice-2\\venv\\lib\\site-packages\\torch\\nn\\functional.py:5504: UserWarning: 1Torch was not compiled with flash attention. (Triggered internally at ..\\aten\\src\\ATen\\native\\transformers\\cuda\\sdp_utils.cpp:455.)\n",
      "  attn_output = scaled_dot_product_attention(q, k, v, attn_mask, dropout_p, is_causal)\n",
      "Computing embeddings: 100%|██████████| 24826/24826 [07:29<00:00, 55.21it/s]\n",
      "Analyzing scenes: 100%|██████████| 1248/1248 [15:14<00:00,  1.36it/s] \n"
     ]
    },
    {
     "name": "stdout",
     "output_type": "stream",
     "text": [
      "✅ Отчёт сохранён: reports\\Video_02_video_report.json\n"
     ]
    }
   ],
   "source": [
    "if os.path.exists(CACHE_PATH):\n",
    "    print(\"🔁 Загружаем из кеша...\")\n",
    "    with open(CACHE_PATH, \"rb\") as f:\n",
    "        #scenes, track_faces, tracking_frames, track_id_to_person = pickle.load(f)\n",
    "        scenes, track_faces, tracking_frames = pickle.load(f)\n",
    "\n",
    "else:\n",
    "    pipeline = VideoPipeline()\n",
    "    #scenes, track_faces, tracking_frames, track_id_to_person = pipeline.run(VIDEO_PATH, OUTPUT_DIR)\n",
    "    scenes, track_faces, tracking_frames = pipeline.run(VIDEO_PATH, OUTPUT_DIR)\n",
    "\n",
    "    with open(CACHE_PATH, \"wb\") as f:\n",
    "        #pickle.dump((scenes, track_faces, tracking_frames, track_id_to_person), f)\n",
    "        pickle.dump((scenes, track_faces, tracking_frames), f)"
   ]
  },
  {
   "cell_type": "markdown",
   "id": "473ae0ab96893355",
   "metadata": {},
   "source": [
    "# Анализ аудио: распознавание речи и активность\n",
    "\n",
    "### Используем AudioAnalyzer для транскрибирования речи и измерения активности звука (энергии)."
   ]
  },
  {
   "cell_type": "code",
   "execution_count": 4,
   "id": "c8293626",
   "metadata": {},
   "outputs": [
    {
     "name": "stdout",
     "output_type": "stream",
     "text": [
      "🎧 Извлечение аудио из видео...\n",
      "✅ Аудио сохранено: output_files/temp_audio.wav\n",
      "📦 Загрузка модели torchopenl3...\n"
     ]
    },
    {
     "name": "stderr",
     "output_type": "stream",
     "text": [
      "d:\\All_projects\\TGU_projects\\Hackathon\\kion_practice-2\\venv\\lib\\site-packages\\torchopenl3\\models.py:200: UserWarning: Empty filters detected in mel frequency basis. Some channels will produce empty responses. Try increasing your sampling rate (and fmax) or reducing n_mels.\n",
      "  mel_basis = librosa.filters.mel(\n"
     ]
    },
    {
     "name": "stdout",
     "output_type": "stream",
     "text": [
      "✅ torchopenl3 модель загружена.\n",
      "WARNING:tensorflow:From d:\\All_projects\\TGU_projects\\Hackathon\\kion_practice-2\\venv\\lib\\site-packages\\tensorflow_hub\\resolver.py:120: The name tf.gfile.MakeDirs is deprecated. Please use tf.io.gfile.makedirs instead.\n",
      "\n"
     ]
    },
    {
     "name": "stderr",
     "output_type": "stream",
     "text": [
      "WARNING:tensorflow:From d:\\All_projects\\TGU_projects\\Hackathon\\kion_practice-2\\venv\\lib\\site-packages\\tensorflow_hub\\resolver.py:120: The name tf.gfile.MakeDirs is deprecated. Please use tf.io.gfile.makedirs instead.\n",
      "\n"
     ]
    },
    {
     "name": "stdout",
     "output_type": "stream",
     "text": [
      "WARNING:tensorflow:From d:\\All_projects\\TGU_projects\\Hackathon\\kion_practice-2\\venv\\lib\\site-packages\\tensorflow_hub\\module_v2.py:126: The name tf.saved_model.load_v2 is deprecated. Please use tf.compat.v2.saved_model.load instead.\n",
      "\n"
     ]
    },
    {
     "name": "stderr",
     "output_type": "stream",
     "text": [
      "WARNING:tensorflow:From d:\\All_projects\\TGU_projects\\Hackathon\\kion_practice-2\\venv\\lib\\site-packages\\tensorflow_hub\\module_v2.py:126: The name tf.saved_model.load_v2 is deprecated. Please use tf.compat.v2.saved_model.load instead.\n",
      "\n",
      "WARNING:root:To get accurate results we have to move the data the CPU to use resampy\n"
     ]
    },
    {
     "name": "stdout",
     "output_type": "stream",
     "text": [
      "✅ YAMNet модель загружена.\n",
      "🔍 Извлечение аудиопризнаков torchopenl3...\n"
     ]
    },
    {
     "ename": "TypeError",
     "evalue": "mean() received an invalid combination of arguments - got (axis=int, dtype=NoneType, out=NoneType, ), but expected one of:\n * (*, torch.dtype dtype)\n * (tuple of ints dim, bool keepdim, *, torch.dtype dtype)\n * (tuple of names dim, bool keepdim, *, torch.dtype dtype)\n",
     "output_type": "error",
     "traceback": [
      "\u001b[1;31m---------------------------------------------------------------------------\u001b[0m",
      "\u001b[1;31mTypeError\u001b[0m                                 Traceback (most recent call last)",
      "Cell \u001b[1;32mIn[4], line 7\u001b[0m\n\u001b[0;32m      1\u001b[0m \u001b[38;5;66;03m# Запуск анализа\u001b[39;00m\n\u001b[0;32m      2\u001b[0m splitter \u001b[38;5;241m=\u001b[39m AudioAnalyzer(\n\u001b[0;32m      3\u001b[0m     video_path\u001b[38;5;241m=\u001b[39mVIDEO_PATH,\n\u001b[0;32m      4\u001b[0m     output_dir\u001b[38;5;241m=\u001b[39mOUTPUT_DIR,\n\u001b[0;32m      5\u001b[0m     whisper_model_size\u001b[38;5;241m=\u001b[39m\u001b[38;5;124m'\u001b[39m\u001b[38;5;124msmall\u001b[39m\u001b[38;5;124m'\u001b[39m\n\u001b[0;32m      6\u001b[0m )\n\u001b[1;32m----> 7\u001b[0m \u001b[43msplitter\u001b[49m\u001b[38;5;241;43m.\u001b[39;49m\u001b[43mrun\u001b[49m\u001b[43m(\u001b[49m\u001b[43msensitivity\u001b[49m\u001b[38;5;241;43m=\u001b[39;49m\u001b[38;5;241;43m0.88\u001b[39;49m\u001b[43m,\u001b[49m\u001b[43m \u001b[49m\u001b[43mmin_scene_duration\u001b[49m\u001b[38;5;241;43m=\u001b[39;49m\u001b[38;5;241;43m2.0\u001b[39;49m\u001b[43m)\u001b[49m\n\u001b[0;32m      9\u001b[0m segments_short \u001b[38;5;241m=\u001b[39m splitter\u001b[38;5;241m.\u001b[39msegments_short  \u001b[38;5;66;03m# для отчётов и группировок\u001b[39;00m\n\u001b[0;32m     10\u001b[0m segments_full \u001b[38;5;241m=\u001b[39m splitter\u001b[38;5;241m.\u001b[39msegments   \n",
      "File \u001b[1;32md:\\All_projects\\TGU_projects\\Hackathon\\kion_practice-2\\classes\\audioanalyzer_and_transcriptor.py:271\u001b[0m, in \u001b[0;36mAudioAnalyzer.run\u001b[1;34m(self, sensitivity, min_scene_duration)\u001b[0m\n\u001b[0;32m    269\u001b[0m \u001b[38;5;28mself\u001b[39m\u001b[38;5;241m.\u001b[39mextract_audio()\n\u001b[0;32m    270\u001b[0m \u001b[38;5;28mself\u001b[39m\u001b[38;5;241m.\u001b[39mload_models()\n\u001b[1;32m--> 271\u001b[0m features, timestamps \u001b[38;5;241m=\u001b[39m \u001b[38;5;28;43mself\u001b[39;49m\u001b[38;5;241;43m.\u001b[39;49m\u001b[43mextract_openl3_features\u001b[49m\u001b[43m(\u001b[49m\u001b[43m)\u001b[49m\n\u001b[0;32m    272\u001b[0m yamnet_labels \u001b[38;5;241m=\u001b[39m \u001b[38;5;28mself\u001b[39m\u001b[38;5;241m.\u001b[39mextract_yamnet_labels()\n\u001b[0;32m    273\u001b[0m rms_t, rms_vals \u001b[38;5;241m=\u001b[39m \u001b[38;5;28mself\u001b[39m\u001b[38;5;241m.\u001b[39mcompute_rms()\n",
      "File \u001b[1;32md:\\All_projects\\TGU_projects\\Hackathon\\kion_practice-2\\classes\\audioanalyzer_and_transcriptor.py:102\u001b[0m, in \u001b[0;36mAudioAnalyzer.extract_openl3_features\u001b[1;34m(self)\u001b[0m\n\u001b[0;32m     93\u001b[0m embeddings, timestamps \u001b[38;5;241m=\u001b[39m torchopenl3\u001b[38;5;241m.\u001b[39mget_audio_embedding(\n\u001b[0;32m     94\u001b[0m     audio,\n\u001b[0;32m     95\u001b[0m     sr,\n\u001b[1;32m   (...)\u001b[0m\n\u001b[0;32m     98\u001b[0m     center\u001b[38;5;241m=\u001b[39m\u001b[38;5;28;01mTrue\u001b[39;00m\n\u001b[0;32m     99\u001b[0m )\n\u001b[0;32m    101\u001b[0m \u001b[38;5;66;03m# Нормализация признаков\u001b[39;00m\n\u001b[1;32m--> 102\u001b[0m embeddings \u001b[38;5;241m=\u001b[39m (embeddings \u001b[38;5;241m-\u001b[39m \u001b[43mnp\u001b[49m\u001b[38;5;241;43m.\u001b[39;49m\u001b[43mmean\u001b[49m\u001b[43m(\u001b[49m\u001b[43membeddings\u001b[49m\u001b[43m,\u001b[49m\u001b[43m \u001b[49m\u001b[43maxis\u001b[49m\u001b[38;5;241;43m=\u001b[39;49m\u001b[38;5;241;43m0\u001b[39;49m\u001b[43m)\u001b[49m) \u001b[38;5;241m/\u001b[39m np\u001b[38;5;241m.\u001b[39mstd(embeddings, axis\u001b[38;5;241m=\u001b[39m\u001b[38;5;241m0\u001b[39m)\n\u001b[0;32m    104\u001b[0m \u001b[38;5;28mprint\u001b[39m(\u001b[38;5;124mf\u001b[39m\u001b[38;5;124m\"\u001b[39m\u001b[38;5;124m✅ Извлечено \u001b[39m\u001b[38;5;132;01m{\u001b[39;00m\u001b[38;5;28mlen\u001b[39m(embeddings)\u001b[38;5;132;01m}\u001b[39;00m\u001b[38;5;124m векторов признаков.\u001b[39m\u001b[38;5;124m\"\u001b[39m)\n\u001b[0;32m    105\u001b[0m \u001b[38;5;28;01mreturn\u001b[39;00m embeddings, timestamps\n",
      "File \u001b[1;32md:\\All_projects\\TGU_projects\\Hackathon\\kion_practice-2\\venv\\lib\\site-packages\\numpy\\core\\fromnumeric.py:3502\u001b[0m, in \u001b[0;36mmean\u001b[1;34m(a, axis, dtype, out, keepdims, where)\u001b[0m\n\u001b[0;32m   3500\u001b[0m         \u001b[38;5;28;01mpass\u001b[39;00m\n\u001b[0;32m   3501\u001b[0m     \u001b[38;5;28;01melse\u001b[39;00m:\n\u001b[1;32m-> 3502\u001b[0m         \u001b[38;5;28;01mreturn\u001b[39;00m mean(axis\u001b[38;5;241m=\u001b[39maxis, dtype\u001b[38;5;241m=\u001b[39mdtype, out\u001b[38;5;241m=\u001b[39mout, \u001b[38;5;241m*\u001b[39m\u001b[38;5;241m*\u001b[39mkwargs)\n\u001b[0;32m   3504\u001b[0m \u001b[38;5;28;01mreturn\u001b[39;00m _methods\u001b[38;5;241m.\u001b[39m_mean(a, axis\u001b[38;5;241m=\u001b[39maxis, dtype\u001b[38;5;241m=\u001b[39mdtype,\n\u001b[0;32m   3505\u001b[0m                       out\u001b[38;5;241m=\u001b[39mout, \u001b[38;5;241m*\u001b[39m\u001b[38;5;241m*\u001b[39mkwargs)\n",
      "\u001b[1;31mTypeError\u001b[0m: mean() received an invalid combination of arguments - got (axis=int, dtype=NoneType, out=NoneType, ), but expected one of:\n * (*, torch.dtype dtype)\n * (tuple of ints dim, bool keepdim, *, torch.dtype dtype)\n * (tuple of names dim, bool keepdim, *, torch.dtype dtype)\n"
     ]
    }
   ],
   "source": [
    "# Запуск анализа\n",
    "splitter = AudioAnalyzer(\n",
    "    video_path=VIDEO_PATH,\n",
    "    output_dir=OUTPUT_DIR,\n",
    "    whisper_model_size='small'\n",
    ")\n",
    "splitter.run(sensitivity=0.88, min_scene_duration=2.0)\n",
    "\n",
    "segments_short = splitter.segments_short  # для отчётов и группировок\n",
    "segments_full = splitter.segments   \n",
    "\n",
    "# Вычисление аудиоэнергии по кадрам\n",
    "energy = splitter.detect_audio_activity(frame_duration=1.0)\n",
    "\n",
    "# Визуализация энергии\n",
    "import matplotlib.pyplot as plt\n",
    "\n",
    "plt.figure(figsize=(14, 4))\n",
    "plt.plot(energy)\n",
    "plt.title(\"Audio Energy per Frame\")\n",
    "plt.xlabel(\"Frame index\")\n",
    "plt.ylabel(\"Energy\")\n",
    "plt.grid(True)\n",
    "plt.show()\n"
   ]
  },
  {
   "cell_type": "markdown",
   "id": "123b0a082d3914dc",
   "metadata": {},
   "source": [
    "# Обогащение сцен транскриптами и аудио энергией\n",
    "\n",
    "### Добавляем к сценам распознанный текст и усреднённые показатели звуковой активности.\n"
   ]
  },
  {
   "cell_type": "code",
   "execution_count": null,
   "id": "790ca4d5",
   "metadata": {},
   "outputs": [
    {
     "name": "stdout",
     "output_type": "stream",
     "text": [
      "🧠 Загрузка sentence-transformer модели...\n",
      "✅ SentenceTransformer готов.\n",
      "🚀 Запуск полного процесса обогащения и группировки...\n",
      "🎭 Обогащение сцен...\n",
      "🔊 Добавление речевых сегментов и аудиоэнергии...\n",
      "✅ Обогащено сцен: 1248\n",
      "🧩 Группировка сцен методом: semantic\n",
      "✅ Сцен сгруппировано: 999\n",
      "🧼 Постобработка: разрешение пересечений и объединение коротких сцен...\n",
      "✅ Финальное количество сцен после очистки: 50\n",
      "💾 Сохранение отчета по сценам...\n",
      "✅ JSON-отчёт по сценам сохранён: reports\\scenes_enriched_report.json\n",
      "📁 JSON-отчет успешно сохранен.\n",
      "✅ Обработка сцен завершена.\n"
     ]
    }
   ],
   "source": [
    "enricher = SceneEnricher(segments_full, energy)\n",
    "#scenes_final = enricher.run(scenes, track_id_to_person)\n",
    "scenes_final = enricher.run(scenes)\n",
    "#scenes_final = enricher.run(scene_data, track_id_to_person, print_report=False)\n"
   ]
  },
  {
   "cell_type": "code",
   "execution_count": 7,
   "id": "5d81463b",
   "metadata": {},
   "outputs": [
    {
     "name": "stderr",
     "output_type": "stream",
     "text": [
      "100%|███████████████████████████████████████| 139M/139M [00:34<00:00, 4.23MiB/s]\n"
     ]
    },
    {
     "name": "stdout",
     "output_type": "stream",
     "text": [
      "Распознавание речи для: videos/Video_02.avi\n"
     ]
    },
    {
     "name": "stderr",
     "output_type": "stream",
     "text": [
      "d:\\All_projects\\TGU_projects\\Hackathon\\kion_practice-2\\venv\\lib\\site-packages\\whisper\\timing.py:42: UserWarning: Failed to launch Triton kernels, likely due to missing CUDA toolkit; falling back to a slower median kernel implementation...\n",
      "  warnings.warn(\n",
      "d:\\All_projects\\TGU_projects\\Hackathon\\kion_practice-2\\venv\\lib\\site-packages\\whisper\\timing.py:146: UserWarning: Failed to launch Triton kernels, likely due to missing CUDA toolkit; falling back to a slower DTW implementation...\n",
      "  warnings.warn(\n"
     ]
    },
    {
     "name": "stdout",
     "output_type": "stream",
     "text": [
      "[00:40.560 --> 00:41.960]  СПОКОЙНАЯ МУЗЫКА\n",
      "[00:50.980 --> 00:52.380]  СПОКОЙНАЯ МУЗЫКА\n"
     ]
    },
    {
     "name": "stderr",
     "output_type": "stream",
     "text": [
      "d:\\All_projects\\TGU_projects\\Hackathon\\kion_practice-2\\venv\\lib\\site-packages\\whisper\\timing.py:42: UserWarning: Failed to launch Triton kernels, likely due to missing CUDA toolkit; falling back to a slower median kernel implementation...\n",
      "  warnings.warn(\n",
      "d:\\All_projects\\TGU_projects\\Hackathon\\kion_practice-2\\venv\\lib\\site-packages\\whisper\\timing.py:146: UserWarning: Failed to launch Triton kernels, likely due to missing CUDA toolkit; falling back to a slower DTW implementation...\n",
      "  warnings.warn(\n"
     ]
    },
    {
     "name": "stdout",
     "output_type": "stream",
     "text": [
      "[01:11.540 --> 01:12.940]  СПОКОЙНАЯ МУЗЫКА\n",
      "[01:12.940 --> 01:12.940]  СПОКОЙНАЯ МУЗЫКА\n",
      "[01:22.100 --> 01:22.940]  СПОКОЙНАЯ МУЗЫКА\n",
      "[01:25.740 --> 01:30.460]  Мой лачина у Вас, она мурулась, как котенок. Не подведет.\n",
      "[01:39.340 --> 01:39.800]  СПОКОЙНАЯ МУЗЫКА\n",
      "[01:43.120 --> 01:45.200]  Звенал, норме, не то, что в прошлой разе.\n",
      "[01:45.360 --> 01:47.200]  Ну да, после обновления поменьхи исчезли.\n",
      "[01:47.580 --> 01:49.140]  Вроде да, и все же надо.\n",
      "[01:51.340 --> 01:51.800]  Здрасте.\n",
      "[01:52.480 --> 01:56.240]  Ну, в чем дело? Чем обязаны?\n",
      "[01:56.240 --> 01:57.600]  Мои извинения.\n",
      "[01:58.620 --> 02:01.900]  Наши вечеринки становятся популярными.\n",
      "[02:02.960 --> 02:05.000]  Нартура их гонорар.\n",
      "[02:07.940 --> 02:09.100]  О, спасибо.\n",
      "[02:12.240 --> 02:16.920]  Я могу взглянуть весьма насульшок.\n",
      "[02:18.620 --> 02:21.840]  Да, он великолепен.\n",
      "[02:22.340 --> 02:23.980]  Да, она.\n",
      "[02:23.980 --> 02:30.380]  А, разумеется, извините, Ледин.\n",
      "[02:31.140 --> 02:34.860]  Что вы скажете, если я предложу вам проиграть?\n",
      "[02:37.360 --> 02:38.780]  Да пошел ты.\n",
      "[02:39.640 --> 02:43.680]  Не стоит так залиться, дорогая. Это бизнес.\n",
      "[02:44.280 --> 02:48.920]  Не для меня. Я не поддаюсь. И не проигрываю.\n",
      "[02:49.580 --> 02:51.320]  Это делает тебя особенный.\n",
      "[02:52.740 --> 02:55.460]  Не особенный. Уникальный.\n",
      "[02:56.360 --> 02:59.200]  Только в нашей команде проводник женщина.\n",
      "[03:00.060 --> 03:03.520]  Это все? Ты мой козырь.\n",
      "[03:04.440 --> 03:06.620]  Женщины дерутся лучше, мужчин.\n",
      "[03:07.140 --> 03:09.060]  Это лучше. Да.\n",
      "[03:09.180 --> 03:11.200]  Моя девочка. 17 побед подряд.\n",
      "[03:11.520 --> 03:13.140]  Вам достойно заплатят.\n",
      "[03:13.600 --> 03:15.280]  Да ты что, совсем оглох.\n",
      "[03:15.500 --> 03:17.440]  Это тебе важные деньги, а нам нет.\n",
      "[03:17.440 --> 03:19.160]  500 тысяч.\n",
      "[03:21.820 --> 03:22.820]  Нет.\n",
      "[03:24.680 --> 03:27.120]  Один незначительный проигрыш, по-посновому.\n",
      "[03:27.160 --> 03:28.160]  Незначительной.\n",
      "[03:28.660 --> 03:30.500]  Да какие же выказлы?\n",
      "[03:31.020 --> 03:33.920]  Вот такие, как ты, выкручивали ей руки.\n",
      "[03:40.440 --> 03:43.320]  Год назад соня похитили бандиты.\n",
      "[03:44.360 --> 03:45.660]  Они на друга олись над ней.\n",
      "[03:45.660 --> 03:49.520]  А затем из Крамсалей покрыли шрамами все тело.\n",
      "[03:50.000 --> 03:52.140]  Можешь себе представить, какая боль,\n",
      "[03:52.380 --> 03:55.020]  какое унижение высечено на ее кожи.\n",
      "[03:55.940 --> 03:58.100]  Вечное напоминание о том дне.\n",
      "[03:58.740 --> 04:00.860]  Соня идёт драться, не из гордости.\n",
      "[04:01.180 --> 04:02.280]  Не ради статуса.\n",
      "[04:02.800 --> 04:05.880]  И уж точно не ради твоих жёлких денег.\n",
      "[04:07.820 --> 04:10.920]  Она воюет с теми. Кто сделала это?\n",
      "[04:12.820 --> 04:13.980]  Так и быть.\n",
      "[04:13.980 --> 04:16.960]  Не стану настоють.\n",
      "[04:18.080 --> 04:19.320]  Гав на кусок.\n",
      "[04:24.980 --> 04:27.320]  Надеюсь, что вы передумаете.\n",
      "[05:08.800 --> 05:10.200]  ВЕСЕЛАЯ МУЗЫКА\n",
      "[05:10.200 --> 05:10.200]  ВЕСЕЛАЯ МУЗЫКА\n",
      "[05:10.200 --> 05:11.920]  ВЕСЕЛАЯ МУЗЫКА\n",
      "[05:13.380 --> 05:14.780]  УДАРЫ\n",
      "[05:14.780 --> 05:17.280]  Приресная девчузская.\n",
      "[05:17.960 --> 05:19.840]  Тебя конец.\n",
      "[05:20.760 --> 05:21.580]  Конец.\n",
      "[05:22.360 --> 05:23.120]  Конец.\n",
      "[05:26.920 --> 05:27.660]  Ты в норме?\n",
      "[05:35.980 --> 05:39.920]  Сегодня особая, особая ночь.\n",
      "[05:40.560 --> 05:42.900]  Ночь большого поединка.\n",
      "[05:43.760 --> 05:45.800]  Жестоке дворей.\n",
      "[05:46.580 --> 05:48.600]  Смерчельной схватки.\n",
      "[05:50.180 --> 05:51.460]  Кроф.\n",
      "[05:51.960 --> 05:53.840]  Целый океан!\n",
      "[05:54.740 --> 05:56.480]  Связь суставно, Вина Сонин. Ты готова?\n",
      "[05:56.660 --> 05:57.120]  Ждём тебе.\n",
      "[06:06.380 --> 06:07.780]  Вечайте.\n",
      "[06:07.780 --> 06:08.040]  Здравствуйте.\n",
      "[06:10.780 --> 06:13.420]  Престую. Не победимую, Смерёга.\n",
      "[06:15.360 --> 06:16.620]  Готово двое?\n",
      "[06:17.120 --> 06:18.660]  Приятного дня, Ював.\n",
      "[06:19.200 --> 06:20.240]  Она в ударе.\n",
      "[06:21.780 --> 06:22.780]  Канево!\n",
      "[06:32.000 --> 06:33.400]  ВЕСЕЛАЯ МУЗЫКА\n",
      "[06:36.520 --> 06:37.920]  Слышите.\n",
      "[06:39.200 --> 06:41.900]  О, это ведь тот.\n",
      "[06:43.400 --> 06:44.000]  Тот.\n",
      "[06:45.020 --> 06:45.820]  Тот.\n",
      "[06:46.580 --> 06:48.860]  То всех разнесёт.\n",
      "[06:49.640 --> 06:51.640]  Это дурба!\n",
      "[07:01.060 --> 07:02.460]  Тот.\n",
      "[07:02.460 --> 07:03.380]  Это...\n",
      "[07:03.380 --> 07:04.220]  Виз.\n",
      "[07:05.380 --> 07:06.300]  Готово!\n",
      "[07:18.460 --> 07:19.140]  ВИЗГОРОВ\n",
      "[07:19.140 --> 07:20.320]  Брактем, оликинс, сучка!\n",
      "[07:42.340 --> 07:43.740]  ВИЗГОРОВ\n",
      "[07:43.740 --> 07:44.300]  ВИЗГОРОВ\n",
      "[07:51.160 --> 07:53.520]  Цепри собрётки!\n",
      "[08:00.240 --> 08:03.900]  У неё боль зашкаливает.\n",
      "[08:32.420 --> 08:33.820]  ВИЗГОРОВ\n",
      "[08:33.820 --> 08:33.820]  ВИЗГОРОВ\n",
      "[08:36.880 --> 08:38.240]  Давай, придурок!\n",
      "[08:58.360 --> 08:59.640]  Это еще что?\n",
      "[08:59.800 --> 09:00.380]  Твой ума.\n",
      "[10:09.400 --> 10:10.340]  Ох!\n",
      "[10:20.440 --> 10:21.380]  Пится!\n",
      "[10:21.780 --> 10:22.240]  Пошел!\n",
      "[10:23.900 --> 10:24.520]  Аааа!\n",
      "[10:29.800 --> 10:31.280]  Апокурать ли нельзя?\n",
      "[10:31.380 --> 10:32.980]  А это кто-нибудь уберет?\n",
      "[10:34.220 --> 10:35.300]  Семплевая, дружище.\n",
      "[10:35.480 --> 10:37.420]  Даю им пять минут, потом сам уберу.\n",
      "[10:38.200 --> 10:39.080]  Черт, эвдера.\n",
      "[10:39.240 --> 10:40.560]  Это что за покус рукой?\n",
      "[10:41.540 --> 10:42.480]  Жюльничество, вот что.\n",
      "[10:42.980 --> 10:44.580]  Она искать сте, это поправило?\n",
      "[10:45.080 --> 10:47.860]  Да, но как они спроектировали такую цельную конструкцию?\n",
      "[10:48.380 --> 10:49.840]  А ты не верила в победу.\n",
      "[11:01.500 --> 11:02.900]  Заблудилась?\n",
      "[11:04.120 --> 11:09.340]  Это место, но удивительное.\n",
      "[11:10.680 --> 11:13.140]  Ты удивительная.\n",
      "[11:13.780 --> 11:14.180]  Спасибо.\n",
      "[11:15.420 --> 11:18.540]  Слушай, почему ты с этим дико?\n",
      "[11:19.720 --> 11:19.820]  Я не знаю, что это.\n",
      "[11:19.820 --> 11:19.820]  Я не знаю, что это.\n",
      "[11:19.820 --> 11:19.820]  Я не знаю, что это.\n",
      "[11:19.820 --> 11:19.820]  Я не знаю, что это.\n",
      "[11:20.820 --> 11:21.720]  Безопасность?\n",
      "[11:22.940 --> 11:23.840]  Ясно.\n",
      "[11:25.120 --> 11:26.380]  Думала его бросить?\n",
      "[11:27.260 --> 11:27.640]  Иногда.\n",
      "[11:29.440 --> 11:30.460]  Постоянно.\n",
      "[11:31.860 --> 11:33.000]  Брисоединяйся к нам?\n",
      "[11:34.440 --> 11:35.740]  Нет.\n",
      "[11:36.420 --> 11:38.040]  Не могу.\n",
      "[11:39.780 --> 11:40.940]  Я тебе завидую.\n",
      "[11:42.080 --> 11:42.920]  Ты храбрая.\n",
      "[11:43.960 --> 11:46.740]  Я даже слегка тебя побоевываюсь.\n",
      "[11:46.740 --> 11:50.740]  Мне такое не статье.\n",
      "[12:05.880 --> 12:07.820]  Как тебе удается?\n",
      "[12:08.300 --> 12:10.180]  Все время драться.\n",
      "[12:10.940 --> 12:11.760]  Не на видеть.\n",
      "[12:12.000 --> 12:12.760]  Не страшно.\n",
      "[12:13.320 --> 12:14.040]  Страшно?\n",
      "[12:16.040 --> 12:17.440]  Постоянно.\n",
      "[12:18.160 --> 12:19.300]  Одненовесть.\n",
      "[12:20.700 --> 12:22.780]  Ей пришлось научиться.\n",
      "[12:23.960 --> 12:25.780]  С ней она вести и не рождаются.\n",
      "[12:27.000 --> 12:27.940]  Зато страх.\n",
      "[12:29.080 --> 12:30.620]  Страутор вечен.\n",
      "[12:31.800 --> 12:33.360]  Он заполняет тебя.\n",
      "[12:34.560 --> 12:35.740]  Ты видишь его.\n",
      "[12:36.620 --> 12:37.360]  Злышишь.\n",
      "[12:40.520 --> 12:41.780]  Пропаешь.\n",
      "[12:44.040 --> 12:46.460]  Он не дает мне умирить.\n",
      "[12:48.060 --> 12:51.480]  А тогда в ту ночь.\n",
      "[12:52.660 --> 12:53.620]  Бандиты.\n",
      "[12:54.560 --> 12:54.880]  Они.\n",
      "[12:56.380 --> 12:57.340]  Насилие?\n",
      "[12:59.120 --> 12:59.780]  Да.\n",
      "[13:01.400 --> 13:02.160]  Дело не в нем.\n",
      "[13:04.420 --> 13:05.720]  В это трудно поверить.\n",
      "[13:07.540 --> 13:08.780]  Никто и не верит.\n",
      "[13:10.640 --> 13:12.380]  Но мой козырь в другом.\n",
      "[13:13.380 --> 13:15.960]  Зла я девчонка жаждет вместе.\n",
      "[13:16.760 --> 13:17.940]  Ди-ка думай так.\n",
      "[13:20.000 --> 13:21.240]  Потому что хочет.\n",
      "[13:23.140 --> 13:24.400]  Как и все.\n",
      "[13:31.520 --> 13:33.260]  Каждый видит то, что хочет.\n",
      "[13:42.380 --> 13:42.380]  Правда.\n",
      "[14:12.320 --> 14:15.320]  А Visual şu кревlled mentorship\n",
      "[14:17.800 --> 14:23.360]  Голуба идёт в чамках. Стой вот его от твоя гордость.\n",
      "[14:24.200 --> 14:25.360]  Ловкий.\n",
      "[14:26.560 --> 14:26.940]  Трёг.\n",
      "[14:36.320 --> 14:39.040]  Ну, Палан. Так себе.\n",
      "[14:45.320 --> 14:46.220]  Тёт ты.\n",
      "[14:47.040 --> 14:53.240]  Всего лишь пара кибер процессоров с рощаных с позвоночником.\n",
      "[14:54.360 --> 14:55.940]  Ты не здесь.\n",
      "[14:56.660 --> 15:01.520]  Нет, что ночью я с Иври на нашли меня и спасли тело.\n",
      "[15:01.960 --> 15:03.880]  Но бандиты разможили мне чель.\n",
      "[15:04.500 --> 15:06.640]  Хочешь узнать мой козырь?\n",
      "[15:07.140 --> 15:11.200]  Всякий раз, в сходя на ринг, я боюсь за жизнь.\n",
      "[15:11.740 --> 15:14.220]  Старах! Вот мой козырь.\n",
      "[15:18.180 --> 15:20.300]  Это страх.\n",
      "[15:21.020 --> 15:21.320]  Смерти.\n",
      "[15:23.140 --> 15:24.540]  Чувствуешь?\n",
      "[15:28.780 --> 15:31.320]  Теперь тебе страшно.\n",
      "[16:43.900 --> 16:45.300]  Трёг.\n",
      "[17:12.860 --> 17:14.260]  Трёг.\n",
      " Сегменты сохранены в: reports\\Video_02_segments.json\n",
      "Отчёт сохранён: reports\\Video_02_asr_report.json\n"
     ]
    }
   ],
   "source": [
    "asr = ASRProcessor()\n",
    "segments_short = asr.process(VIDEO_PATH)\n"
   ]
  },
  {
   "cell_type": "code",
   "execution_count": null,
   "id": "3c8c4e3c",
   "metadata": {},
   "outputs": [
    {
     "name": "stdout",
     "output_type": "stream",
     "text": [
      "❌ Ошибка разбора JSON из ответа модели.\n",
      "🧠 Тематический отчёт сохранён: reports\\Video_02_themes_report.json\n"
     ]
    }
   ],
   "source": [
    "themer = OpenAIThemer(\n",
    "        api_key=\"\",  # Добавь свой ключ\n",
    "        base_url=\"https://api.proxyapi.ru/openai/v1\"\n",
    "    )\n",
    "themes = themer.get_themes(segments_short, audio_path=VIDEO_PATH)"
   ]
  },
  {
   "cell_type": "code",
   "execution_count": null,
   "id": "af83b41a",
   "metadata": {},
   "outputs": [],
   "source": [
    "merger = UnifiedSceneMerger(\"video.mp4\")\n",
    "final_scenes = merger.run()"
   ]
  }
 ],
 "metadata": {
  "kernelspec": {
   "display_name": "venv",
   "language": "python",
   "name": "python3"
  },
  "language_info": {
   "codemirror_mode": {
    "name": "ipython",
    "version": 3
   },
   "file_extension": ".py",
   "mimetype": "text/x-python",
   "name": "python",
   "nbconvert_exporter": "python",
   "pygments_lexer": "ipython3",
   "version": "3.10.7"
  }
 },
 "nbformat": 4,
 "nbformat_minor": 5
}
