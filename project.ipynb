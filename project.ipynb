{
 "cells": [
  {
   "cell_type": "code",
   "execution_count": null,
   "id": "2739479f",
   "metadata": {},
   "outputs": [
    {
     "name": "stderr",
     "output_type": "stream",
     "text": [
      "c:\\Users\\d.krasnov.kulturauao\\Projects\\My_projects\\Hachakaton\\kion_practice\\venv\\lib\\site-packages\\tqdm\\auto.py:21: TqdmWarning: IProgress not found. Please update jupyter and ipywidgets. See https://ipywidgets.readthedocs.io/en/stable/user_install.html\n",
      "  from .autonotebook import tqdm as notebook_tqdm\n"
     ]
    },
    {
     "name": "stdout",
     "output_type": "stream",
     "text": [
      "WARNING:tensorflow:From c:\\Users\\d.krasnov.kulturauao\\Projects\\My_projects\\Hachakaton\\kion_practice\\venv\\lib\\site-packages\\tf_keras\\src\\losses.py:2976: The name tf.losses.sparse_softmax_cross_entropy is deprecated. Please use tf.compat.v1.losses.sparse_softmax_cross_entropy instead.\n",
      "\n"
     ]
    }
   ],
   "source": [
    "# Импорт необходимых модулей\n",
    "from tracking.face_reid import FaceReId\n",
    "from utils.scene_tools import (\n",
    "   enrich_scenes_with_characters,\n",
    "   enrich_scenes_with_audio,\n",
    "   clean_and_merge_short_scenes,\n",
    "   print_scenes_formatted, cluster_scenes_with_time_windows, resolve_time_overlaps,\n",
    ")\n",
    "from sentence_transformers import SentenceTransformer\n",
    "\n",
    "from utils.video_tools import save_scenes_ffmpeg\n",
    "from analyzers.video.video_analyzer import VideoAnalyzer\n",
    "from analyzers.audio_analyzer import AudioSceneAnalyzer\n",
    "import os\n",
    "#from video.render_video import render_video_with_faces\n",
    "from analyzers.video_analyzer_complex import VideoPipeline\n",
    "import pickle"
   ]
  },
  {
   "cell_type": "code",
   "execution_count": null,
   "id": "ab7abf71",
   "metadata": {},
   "outputs": [],
   "source": [
    "VIDEO_PATH = \"videos/Video_01.mp4\"          # Путь к видеофайлу\n",
    "AUDIO_PATH = \"temp/temp_audio.wav\"           # Временный WAV\n",
    "OUTPUT_DIR = \"output_files/\"\n",
    "TEMP_DIR = \"temp/\"         # Папка для результатов\n",
    "CACHE_PATH = os.path.join(TEMP_DIR, \"results.pkl\")\n",
    "MIN_SCENE_LENGTH = 2.0                  # Мин. длительность сцены\n",
    "MAX_SCENE_LENGTH = 300.0                # Макс. допустимая длина сцены (5 мин)\n"
   ]
  },
  {
   "cell_type": "markdown",
   "id": "20690d6793c8bd80",
   "metadata": {},
   "source": [
    "# Анализ видео и выделение сцен\n",
    "\n",
    "### В этой ячейке мы создаём объект VideoAnalyzer и анализируем видео для получения сцены и лиц, привязанных к трекам.\n"
   ]
  },
  {
   "cell_type": "code",
   "execution_count": null,
   "id": "da107042",
   "metadata": {},
   "outputs": [],
   "source": [
    "if os.path.exists(CACHE_PATH):\n",
    "    print(\"🔁 Загружаем из кеша...\")\n",
    "    with open(CACHE_PATH, \"rb\") as f:\n",
    "        scenes, track_faces, tracking_frames, track_id_to_person = pickle.load(f)\n",
    "\n",
    "else:\n",
    "    pipeline = VideoPipeline()\n",
    "    scenes, track_faces, tracking_frames, track_id_to_person = pipeline.run(VIDEO_PATH, OUTPUT_DIR)\n",
    "\n",
    "    with open(CACHE_PATH, \"wb\") as f:\n",
    "        pickle.dump((scenes, track_faces, tracking_frames, track_id_to_person), f)"
   ]
  },
  {
   "cell_type": "markdown",
   "id": "7c874e185b4a0123",
   "metadata": {},
   "source": [
    "# Обогащение сцен информацией о персонажах\n",
    "\n",
    "### Связываем сцены с именами персонажей на основе сопоставления track_id → персонаж.\n"
   ]
  },
  {
   "cell_type": "code",
   "execution_count": null,
   "id": "63fa159735aef628",
   "metadata": {
    "ExecuteTime": {
     "end_time": "2025-07-21T18:02:06.741018Z",
     "start_time": "2025-07-21T18:02:06.737351Z"
    }
   },
   "outputs": [],
   "source": [
    "scene_data = enrich_scenes_with_characters(scenes, track_id_to_person)\n"
   ]
  },
  {
   "cell_type": "markdown",
   "id": "473ae0ab96893355",
   "metadata": {},
   "source": [
    "# Анализ аудио: распознавание речи и активность\n",
    "\n",
    "### Используем AudioAnalyzer для транскрибирования речи и измерения активности звука (энергии)."
   ]
  },
  {
   "cell_type": "code",
   "execution_count": null,
   "id": "3b273c0e8880d4c9",
   "metadata": {
    "ExecuteTime": {
     "end_time": "2025-07-21T18:04:30.637952Z",
     "start_time": "2025-07-21T18:02:12.296697Z"
    }
   },
   "outputs": [],
   "source": [
    "splitter = AudioSceneAnalyzer(\n",
    "    video_path=VIDEO_PATH,\n",
    "    output_dir=OUTPUT_DIR,\n",
    "    whisper_model_size='small'\n",
    ")\n",
    "splitter.run(sensitivity=0.88, min_scene_duration=2.0)\n",
    "segments = splitter.transcribe_audio()\n",
    "energy = splitter.detect_audio_activity(frame_duration=1.0)"
   ]
  },
  {
   "cell_type": "markdown",
   "id": "123b0a082d3914dc",
   "metadata": {},
   "source": [
    "# Обогащение сцен транскриптами и аудио энергией\n",
    "\n",
    "### Добавляем к сценам распознанный текст и усреднённые показатели звуковой активности.\n"
   ]
  },
  {
   "cell_type": "code",
   "execution_count": null,
   "id": "6259c4cfff657228",
   "metadata": {
    "ExecuteTime": {
     "end_time": "2025-07-21T18:04:32.749507Z",
     "start_time": "2025-07-21T18:04:32.729386Z"
    }
   },
   "outputs": [],
   "source": [
    "scene_data_copy = scene_data.copy()\n",
    "\n",
    "scenes_enrich = enrich_scenes_with_audio(scene_data_copy, segments, energy)\n"
   ]
  },
  {
   "cell_type": "markdown",
   "id": "8671830e16358109",
   "metadata": {},
   "source": [
    "# Семантическая группировка и очистка сцен\n",
    "\n",
    "### Группируем сцены по сходству персонажей, текстов и аудио, затем объединяем слишком короткие сцены.\n"
   ]
  },
  {
   "cell_type": "code",
   "execution_count": null,
   "id": "6fe283a93c107570",
   "metadata": {
    "ExecuteTime": {
     "end_time": "2025-07-21T18:05:38.972752Z",
     "start_time": "2025-07-21T18:05:33.876199Z"
    }
   },
   "outputs": [],
   "source": [
    "scenes_enrich_copy = scenes_enrich.copy()\n",
    "\n",
    "# Загружаем модель для вычисления семантических эмбеддингов текста\n",
    "sentenceTransformer = SentenceTransformer('all-mpnet-base-v2', device=\"cuda\")\n",
    "\n",
    "# Группируем похожие сцены\n",
    "scenes_grouped = cluster_scenes_with_time_windows(scenes_enrich_copy, sentenceTransformer)\n",
    "\n",
    "grouped_chapters_no_overlap = resolve_time_overlaps(scenes_grouped)\n",
    "\n",
    "# Убираем слишком короткие сцены, объединяя их с соседними\n",
    "scenes_cleaned = clean_and_merge_short_scenes(grouped_chapters_no_overlap, min_duration=2.0, min_words=3)"
   ]
  },
  {
   "cell_type": "markdown",
   "id": "bd5e3537874ff6aa",
   "metadata": {},
   "source": [
    "# Вывод результата\n",
    "\n",
    "### Печатаем красиво отформатированный отчёт по сценам.\n"
   ]
  },
  {
   "cell_type": "code",
   "execution_count": null,
   "id": "3d9c4924826004c",
   "metadata": {
    "ExecuteTime": {
     "end_time": "2025-07-21T18:05:41.128729Z",
     "start_time": "2025-07-21T18:05:41.124971Z"
    }
   },
   "outputs": [],
   "source": [
    "print_scenes_formatted(scenes_cleaned)\n"
   ]
  },
  {
   "cell_type": "markdown",
   "id": "5c98c3b316a543dc",
   "metadata": {},
   "source": [
    "# Сохранение выделенных сцен в отдельные видеофайлы\n",
    "\n",
    "### Используем ffmpeg для вырезки и сохранения сцен в отдельные файлы.\n"
   ]
  },
  {
   "cell_type": "code",
   "execution_count": null,
   "id": "ac7a5a199343a007",
   "metadata": {
    "ExecuteTime": {
     "end_time": "2025-07-21T15:35:27.517258Z",
     "start_time": "2025-07-21T15:34:19.526024Z"
    }
   },
   "outputs": [],
   "source": [
    "output_dir = \"output_scenes\"\n",
    "\n",
    "save_scenes_ffmpeg(video_path, scenes_cleaned, output_dir)"
   ]
  },
  {
   "cell_type": "code",
   "execution_count": null,
   "id": "3607f76b",
   "metadata": {},
   "outputs": [],
   "source": [
    "import os\n",
    "import pickle\n",
    "from process_video.video_pipeline import VideoPipeline  # путь обнови под себя\n",
    "\n",
    "video_path = \"test4.mp4\"\n",
    "output_path = \"output_annotated4.mp4\"\n",
    "cache_path = \"results2.pkl\"\n",
    "\n",
    "if os.path.exists(cache_path):\n",
    "    print(\"🔁 Загружаем из кеша...\")\n",
    "    with open(cache_path, \"rb\") as f:\n",
    "        track_faces, tracking_frames, track_id_to_person = pickle.load(f)\n",
    "\n",
    "    pipeline = VideoPipeline(using_cache=True)\n",
    "    pipeline.render_labeled_video(VIDEO_PATH, output_path, tracking_frames, track_id_to_person)\n",
    "\n",
    "else:\n",
    "    pipeline = VideoPipeline()\n",
    "    track_faces, tracking_frames, track_id_to_person = pipeline.run(VIDEO_PATH, output_path)\n",
    "\n",
    "    with open(cache_path, \"wb\") as f:\n",
    "        pickle.dump((track_faces, tracking_frames, track_id_to_person), f)"
   ]
  }
 ],
 "metadata": {
  "kernelspec": {
   "display_name": "venv",
   "language": "python",
   "name": "python3"
  },
  "language_info": {
   "codemirror_mode": {
    "name": "ipython",
    "version": 3
   },
   "file_extension": ".py",
   "mimetype": "text/x-python",
   "name": "python",
   "nbconvert_exporter": "python",
   "pygments_lexer": "ipython3",
   "version": "3.10.0"
  }
 },
 "nbformat": 4,
 "nbformat_minor": 5
}
